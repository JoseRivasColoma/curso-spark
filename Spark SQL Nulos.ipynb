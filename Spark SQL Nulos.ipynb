{
 "cells": [
  {
   "cell_type": "markdown",
   "metadata": {},
   "source": [
    "# Spark SQL Valores Nulos"
   ]
  },
  {
   "cell_type": "code",
   "execution_count": 14,
   "metadata": {
    "collapsed": true
   },
   "outputs": [],
   "source": [
    "from pyspark.sql import SparkSession"
   ]
  },
  {
   "cell_type": "code",
   "execution_count": 15,
   "metadata": {
    "collapsed": true
   },
   "outputs": [],
   "source": [
    "spark = SparkSession.builder.appName('nulos').getOrCreate()"
   ]
  },
  {
   "cell_type": "code",
   "execution_count": 16,
   "metadata": {
    "collapsed": true
   },
   "outputs": [],
   "source": [
    "df = spark.read.csv('Null.csv', inferSchema=True, header=True)"
   ]
  },
  {
   "cell_type": "code",
   "execution_count": 17,
   "metadata": {
    "collapsed": false
   },
   "outputs": [
    {
     "name": "stdout",
     "output_type": "stream",
     "text": [
      "root\n",
      " |-- Id: string (nullable = true)\n",
      " |-- Nombre: string (nullable = true)\n",
      " |-- Ventas: integer (nullable = true)\n",
      " |-- Clientes: integer (nullable = true)\n",
      "\n"
     ]
    }
   ],
   "source": [
    "df.printSchema()"
   ]
  },
  {
   "cell_type": "code",
   "execution_count": 18,
   "metadata": {
    "collapsed": false
   },
   "outputs": [
    {
     "name": "stdout",
     "output_type": "stream",
     "text": [
      "+----+------+------+--------+\n",
      "|  Id|Nombre|Ventas|Clientes|\n",
      "+----+------+------+--------+\n",
      "|emp1|  John|  null|       3|\n",
      "|emp2|  null|  null|    null|\n",
      "|emp3|  null|   345|    null|\n",
      "|emp4| Cindy|   456|       4|\n",
      "+----+------+------+--------+\n",
      "\n"
     ]
    }
   ],
   "source": [
    "df.show()"
   ]
  },
  {
   "cell_type": "code",
   "execution_count": 19,
   "metadata": {
    "collapsed": false
   },
   "outputs": [
    {
     "name": "stdout",
     "output_type": "stream",
     "text": [
      "+----+------+------+--------+\n",
      "|  Id|Nombre|Ventas|Clientes|\n",
      "+----+------+------+--------+\n",
      "|emp4| Cindy|   456|       4|\n",
      "+----+------+------+--------+\n",
      "\n"
     ]
    }
   ],
   "source": [
    "df.na.drop(thresh=4).show() #eliminará cualquier fila con algún valor nulo | thresh = minimos valores no nulos"
   ]
  },
  {
   "cell_type": "code",
   "execution_count": 23,
   "metadata": {
    "collapsed": false
   },
   "outputs": [
    {
     "name": "stdout",
     "output_type": "stream",
     "text": [
      "+----+------+------+--------+\n",
      "|  Id|Nombre|Ventas|Clientes|\n",
      "+----+------+------+--------+\n",
      "|emp4| Cindy|   456|       4|\n",
      "+----+------+------+--------+\n",
      "\n"
     ]
    }
   ],
   "source": [
    "df.na.drop(how = ('any')).show()"
   ]
  },
  {
   "cell_type": "code",
   "execution_count": 25,
   "metadata": {
    "collapsed": false
   },
   "outputs": [
    {
     "name": "stdout",
     "output_type": "stream",
     "text": [
      "+----+------+------+--------+\n",
      "|  Id|Nombre|Ventas|Clientes|\n",
      "+----+------+------+--------+\n",
      "|emp1|  John|  null|       3|\n",
      "|emp2|  null|  null|    null|\n",
      "|emp3|  null|   345|    null|\n",
      "|emp4| Cindy|   456|       4|\n",
      "+----+------+------+--------+\n",
      "\n"
     ]
    }
   ],
   "source": [
    "df.na.drop(how = ('all')).show()"
   ]
  },
  {
   "cell_type": "code",
   "execution_count": 27,
   "metadata": {
    "collapsed": false
   },
   "outputs": [
    {
     "name": "stdout",
     "output_type": "stream",
     "text": [
      "+----+------+------+--------+\n",
      "|  Id|Nombre|Ventas|Clientes|\n",
      "+----+------+------+--------+\n",
      "|emp1|  John|  null|       3|\n",
      "|emp4| Cindy|   456|       4|\n",
      "+----+------+------+--------+\n",
      "\n"
     ]
    }
   ],
   "source": [
    "df.na.drop(subset = 'Clientes').show()"
   ]
  },
  {
   "cell_type": "code",
   "execution_count": 29,
   "metadata": {
    "collapsed": false
   },
   "outputs": [
    {
     "name": "stdout",
     "output_type": "stream",
     "text": [
      "+----+------+------+--------+\n",
      "|  Id|Nombre|Ventas|Clientes|\n",
      "+----+------+------+--------+\n",
      "|emp1|  John|  null|       3|\n",
      "|emp4| Cindy|   456|       4|\n",
      "+----+------+------+--------+\n",
      "\n"
     ]
    }
   ],
   "source": [
    "df.na.drop(subset = 'Nombre').show()"
   ]
  },
  {
   "cell_type": "markdown",
   "metadata": {},
   "source": [
    "# Rellenar = fill()"
   ]
  },
  {
   "cell_type": "code",
   "execution_count": 31,
   "metadata": {
    "collapsed": false
   },
   "outputs": [
    {
     "name": "stdout",
     "output_type": "stream",
     "text": [
      "+----+------+------+--------+\n",
      "|  Id|Nombre|Ventas|Clientes|\n",
      "+----+------+------+--------+\n",
      "|emp1|  John|     0|       3|\n",
      "|emp2|  null|     0|       0|\n",
      "|emp3|  null|   345|       0|\n",
      "|emp4| Cindy|   456|       4|\n",
      "+----+------+------+--------+\n",
      "\n"
     ]
    }
   ],
   "source": [
    "df.na.fill(0).show()"
   ]
  },
  {
   "cell_type": "code",
   "execution_count": 32,
   "metadata": {
    "collapsed": false
   },
   "outputs": [
    {
     "name": "stdout",
     "output_type": "stream",
     "text": [
      "+----+------+------+--------+\n",
      "|  Id|Nombre|Ventas|Clientes|\n",
      "+----+------+------+--------+\n",
      "|emp1|  John|     0|       3|\n",
      "|emp2|  null|     0|    null|\n",
      "|emp3|  null|   345|    null|\n",
      "|emp4| Cindy|   456|       4|\n",
      "+----+------+------+--------+\n",
      "\n"
     ]
    }
   ],
   "source": [
    "df.na.fill(0, subset=['Ventas']).show()"
   ]
  },
  {
   "cell_type": "markdown",
   "metadata": {},
   "source": [
    "# Imputar la media"
   ]
  },
  {
   "cell_type": "code",
   "execution_count": 33,
   "metadata": {
    "collapsed": true
   },
   "outputs": [],
   "source": [
    "from pyspark.sql.functions import mean"
   ]
  },
  {
   "cell_type": "code",
   "execution_count": 34,
   "metadata": {
    "collapsed": false
   },
   "outputs": [
    {
     "data": {
      "text/plain": [
       "[Row(avg(Ventas)=400.5)]"
      ]
     },
     "execution_count": 34,
     "metadata": {},
     "output_type": "execute_result"
    }
   ],
   "source": [
    "media = df.select(mean(df['Ventas'])).collect()\n",
    "media"
   ]
  },
  {
   "cell_type": "code",
   "execution_count": 38,
   "metadata": {
    "collapsed": false
   },
   "outputs": [
    {
     "data": {
      "text/plain": [
       "400.5"
      ]
     },
     "execution_count": 38,
     "metadata": {},
     "output_type": "execute_result"
    }
   ],
   "source": [
    "media[0][0]"
   ]
  },
  {
   "cell_type": "code",
   "execution_count": 39,
   "metadata": {
    "collapsed": false
   },
   "outputs": [
    {
     "name": "stdout",
     "output_type": "stream",
     "text": [
      "+----+------+------+--------+\n",
      "|  Id|Nombre|Ventas|Clientes|\n",
      "+----+------+------+--------+\n",
      "|emp1|  John|   400|       3|\n",
      "|emp2|  null|   400|    null|\n",
      "|emp3|  null|   345|    null|\n",
      "|emp4| Cindy|   456|       4|\n",
      "+----+------+------+--------+\n",
      "\n"
     ]
    }
   ],
   "source": [
    "df.na.fill(media[0][0], ['Ventas']).show()"
   ]
  },
  {
   "cell_type": "code",
   "execution_count": null,
   "metadata": {
    "collapsed": true
   },
   "outputs": [],
   "source": []
  }
 ],
 "metadata": {
  "anaconda-cloud": {},
  "kernelspec": {
   "display_name": "Python [anaconda3]",
   "language": "python",
   "name": "Python [anaconda3]"
  },
  "language_info": {
   "codemirror_mode": {
    "name": "ipython",
    "version": 3
   },
   "file_extension": ".py",
   "mimetype": "text/x-python",
   "name": "python",
   "nbconvert_exporter": "python",
   "pygments_lexer": "ipython3",
   "version": "3.5.2"
  }
 },
 "nbformat": 4,
 "nbformat_minor": 0
}
