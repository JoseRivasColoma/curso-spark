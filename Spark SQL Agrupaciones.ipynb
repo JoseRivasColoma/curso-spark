{
 "cells": [
  {
   "cell_type": "code",
   "execution_count": 1,
   "metadata": {
    "collapsed": true
   },
   "outputs": [],
   "source": [
    "from pyspark.sql import SparkSession"
   ]
  },
  {
   "cell_type": "code",
   "execution_count": 2,
   "metadata": {
    "collapsed": true
   },
   "outputs": [],
   "source": [
    "spark = SparkSession.builder.appName('agrupaciones').getOrCreate()"
   ]
  },
  {
   "cell_type": "code",
   "execution_count": 3,
   "metadata": {
    "collapsed": true
   },
   "outputs": [],
   "source": [
    "df = spark.read.csv('ventas.csv', inferSchema=True, header=True)"
   ]
  },
  {
   "cell_type": "code",
   "execution_count": 4,
   "metadata": {
    "collapsed": false
   },
   "outputs": [
    {
     "name": "stdout",
     "output_type": "stream",
     "text": [
      "+-------+-------+------+\n",
      "|Empresa|Persona|Ventas|\n",
      "+-------+-------+------+\n",
      "|   GOOG| Carlos|   200|\n",
      "|   GOOG|   Juan|   120|\n",
      "|   GOOG| Felipe|   340|\n",
      "|   MSFT|   Tina|   600|\n",
      "|   MSFT| Andrea|   124|\n",
      "|   MSFT|  Carla|   243|\n",
      "|     FB|   Sara|   870|\n",
      "|     FB|Ignacio|   350|\n",
      "|   APPL| Miguel|   250|\n",
      "|   APPL|  Oscar|   130|\n",
      "|   APPL|  Jorge|   750|\n",
      "|   APPL|   Ivan|   350|\n",
      "+-------+-------+------+\n",
      "\n"
     ]
    }
   ],
   "source": [
    "df.show()"
   ]
  },
  {
   "cell_type": "code",
   "execution_count": 6,
   "metadata": {
    "collapsed": false
   },
   "outputs": [
    {
     "name": "stdout",
     "output_type": "stream",
     "text": [
      "root\n",
      " |-- Empresa: string (nullable = true)\n",
      " |-- Persona: string (nullable = true)\n",
      " |-- Ventas: integer (nullable = true)\n",
      "\n"
     ]
    }
   ],
   "source": [
    "df.printSchema()"
   ]
  },
  {
   "cell_type": "markdown",
   "metadata": {},
   "source": [
    "# groupBy() agrupa los datos por un valor"
   ]
  },
  {
   "cell_type": "code",
   "execution_count": 10,
   "metadata": {
    "collapsed": false
   },
   "outputs": [
    {
     "name": "stdout",
     "output_type": "stream",
     "text": [
      "+-------+-----------+\n",
      "|Empresa|sum(Ventas)|\n",
      "+-------+-----------+\n",
      "|   APPL|       1480|\n",
      "|   GOOG|        660|\n",
      "|     FB|       1220|\n",
      "|   MSFT|        967|\n",
      "+-------+-----------+\n",
      "\n"
     ]
    }
   ],
   "source": [
    "df.groupBy('Empresa').sum().show()"
   ]
  },
  {
   "cell_type": "markdown",
   "metadata": {},
   "source": [
    "# agg() agrega los datos"
   ]
  },
  {
   "cell_type": "code",
   "execution_count": 12,
   "metadata": {
    "collapsed": false
   },
   "outputs": [
    {
     "name": "stdout",
     "output_type": "stream",
     "text": [
      "+-----------+\n",
      "|sum(Ventas)|\n",
      "+-----------+\n",
      "|       4327|\n",
      "+-----------+\n",
      "\n"
     ]
    }
   ],
   "source": [
    "df.agg({'Ventas':'sum'}).show()"
   ]
  },
  {
   "cell_type": "code",
   "execution_count": 13,
   "metadata": {
    "collapsed": true
   },
   "outputs": [],
   "source": [
    "agrupado = df.groupBy('Empresa')"
   ]
  },
  {
   "cell_type": "code",
   "execution_count": 15,
   "metadata": {
    "collapsed": false
   },
   "outputs": [
    {
     "name": "stdout",
     "output_type": "stream",
     "text": [
      "+-------+-----------+\n",
      "|Empresa|sum(Ventas)|\n",
      "+-------+-----------+\n",
      "|   APPL|       1480|\n",
      "|   GOOG|        660|\n",
      "|     FB|       1220|\n",
      "|   MSFT|        967|\n",
      "+-------+-----------+\n",
      "\n"
     ]
    }
   ],
   "source": [
    "agrupado.agg({'Ventas':'sum'}).show()"
   ]
  },
  {
   "cell_type": "code",
   "execution_count": 16,
   "metadata": {
    "collapsed": true
   },
   "outputs": [],
   "source": [
    "from pyspark.sql.functions import countDistinct, avg, stddev"
   ]
  },
  {
   "cell_type": "code",
   "execution_count": 17,
   "metadata": {
    "collapsed": false
   },
   "outputs": [
    {
     "name": "stdout",
     "output_type": "stream",
     "text": [
      "+----------------------+\n",
      "|count(DISTINCT Ventas)|\n",
      "+----------------------+\n",
      "|                    11|\n",
      "+----------------------+\n",
      "\n"
     ]
    }
   ],
   "source": [
    "df.select(countDistinct('Ventas')).show()"
   ]
  },
  {
   "cell_type": "code",
   "execution_count": 19,
   "metadata": {
    "collapsed": false
   },
   "outputs": [
    {
     "name": "stdout",
     "output_type": "stream",
     "text": [
      "+-----------------+\n",
      "|  Media de Ventas|\n",
      "+-----------------+\n",
      "|360.5833333333333|\n",
      "+-----------------+\n",
      "\n"
     ]
    }
   ],
   "source": [
    "df.select(avg('Ventas').alias('Media de Ventas')).show()"
   ]
  },
  {
   "cell_type": "code",
   "execution_count": 20,
   "metadata": {
    "collapsed": false
   },
   "outputs": [
    {
     "name": "stdout",
     "output_type": "stream",
     "text": [
      "+-----------------------------+\n",
      "|Desviación estándar de Ventas|\n",
      "+-----------------------------+\n",
      "|           250.08742410799007|\n",
      "+-----------------------------+\n",
      "\n"
     ]
    }
   ],
   "source": [
    "df.select(stddev('Ventas').alias('Desviación estándar de Ventas')).show()"
   ]
  },
  {
   "cell_type": "code",
   "execution_count": 21,
   "metadata": {
    "collapsed": true
   },
   "outputs": [],
   "source": [
    "from pyspark.sql.functions import format_number"
   ]
  },
  {
   "cell_type": "code",
   "execution_count": 24,
   "metadata": {
    "collapsed": false
   },
   "outputs": [],
   "source": [
    "ventas_stddev = df.select(stddev('Ventas'))"
   ]
  },
  {
   "cell_type": "code",
   "execution_count": 25,
   "metadata": {
    "collapsed": false
   },
   "outputs": [
    {
     "name": "stdout",
     "output_type": "stream",
     "text": [
      "+-------------------+\n",
      "|stddev_samp(Ventas)|\n",
      "+-------------------+\n",
      "| 250.08742410799007|\n",
      "+-------------------+\n",
      "\n"
     ]
    }
   ],
   "source": [
    "ventas_stddev.show()"
   ]
  },
  {
   "cell_type": "code",
   "execution_count": 27,
   "metadata": {
    "collapsed": false
   },
   "outputs": [
    {
     "name": "stdout",
     "output_type": "stream",
     "text": [
      "+---------------+\n",
      "|Stdev de Ventas|\n",
      "+---------------+\n",
      "|         250.09|\n",
      "+---------------+\n",
      "\n"
     ]
    }
   ],
   "source": [
    "ventas_stddev.select(format_number('stddev_samp(Ventas)', 2).alias('Stdev de Ventas')).show()"
   ]
  },
  {
   "cell_type": "markdown",
   "metadata": {},
   "source": [
    "# orderBy() ordena el dataframe"
   ]
  },
  {
   "cell_type": "code",
   "execution_count": 28,
   "metadata": {
    "collapsed": false
   },
   "outputs": [
    {
     "name": "stdout",
     "output_type": "stream",
     "text": [
      "+-------+-------+------+\n",
      "|Empresa|Persona|Ventas|\n",
      "+-------+-------+------+\n",
      "|   GOOG|   Juan|   120|\n",
      "|   MSFT| Andrea|   124|\n",
      "|   APPL|  Oscar|   130|\n",
      "|   GOOG| Carlos|   200|\n",
      "|   MSFT|  Carla|   243|\n",
      "|   APPL| Miguel|   250|\n",
      "|   GOOG| Felipe|   340|\n",
      "|     FB|Ignacio|   350|\n",
      "|   APPL|   Ivan|   350|\n",
      "|   MSFT|   Tina|   600|\n",
      "|   APPL|  Jorge|   750|\n",
      "|     FB|   Sara|   870|\n",
      "+-------+-------+------+\n",
      "\n"
     ]
    }
   ],
   "source": [
    "df.orderBy('Ventas').show()"
   ]
  },
  {
   "cell_type": "code",
   "execution_count": 29,
   "metadata": {
    "collapsed": false
   },
   "outputs": [
    {
     "name": "stdout",
     "output_type": "stream",
     "text": [
      "+-------+-------+------+\n",
      "|Empresa|Persona|Ventas|\n",
      "+-------+-------+------+\n",
      "|     FB|   Sara|   870|\n",
      "|   APPL|  Jorge|   750|\n",
      "|   MSFT|   Tina|   600|\n",
      "|     FB|Ignacio|   350|\n",
      "|   APPL|   Ivan|   350|\n",
      "|   GOOG| Felipe|   340|\n",
      "|   APPL| Miguel|   250|\n",
      "|   MSFT|  Carla|   243|\n",
      "|   GOOG| Carlos|   200|\n",
      "|   APPL|  Oscar|   130|\n",
      "|   MSFT| Andrea|   124|\n",
      "|   GOOG|   Juan|   120|\n",
      "+-------+-------+------+\n",
      "\n"
     ]
    }
   ],
   "source": [
    "df.orderBy(df['Ventas'].desc()).show()"
   ]
  },
  {
   "cell_type": "code",
   "execution_count": null,
   "metadata": {
    "collapsed": true
   },
   "outputs": [],
   "source": []
  }
 ],
 "metadata": {
  "anaconda-cloud": {},
  "kernelspec": {
   "display_name": "Python [anaconda3]",
   "language": "python",
   "name": "Python [anaconda3]"
  },
  "language_info": {
   "codemirror_mode": {
    "name": "ipython",
    "version": 3
   },
   "file_extension": ".py",
   "mimetype": "text/x-python",
   "name": "python",
   "nbconvert_exporter": "python",
   "pygments_lexer": "ipython3",
   "version": "3.5.2"
  }
 },
 "nbformat": 4,
 "nbformat_minor": 0
}
