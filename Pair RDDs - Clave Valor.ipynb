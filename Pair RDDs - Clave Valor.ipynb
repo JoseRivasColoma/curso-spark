{
 "cells": [
  {
   "cell_type": "code",
   "execution_count": 1,
   "metadata": {
    "collapsed": true
   },
   "outputs": [],
   "source": [
    "from pyspark import SparkContext"
   ]
  },
  {
   "cell_type": "code",
   "execution_count": 2,
   "metadata": {
    "collapsed": false
   },
   "outputs": [
    {
     "data": {
      "text/html": [
       "\n",
       "        <div>\n",
       "            <p><b>SparkContext</b></p>\n",
       "\n",
       "            <p><a href=\"http://ip-172-31-33-91.us-west-2.compute.internal:4040\">Spark UI</a></p>\n",
       "\n",
       "            <dl>\n",
       "              <dt>Version</dt>\n",
       "                <dd><code>v2.4.5</code></dd>\n",
       "              <dt>Master</dt>\n",
       "                <dd><code>local[*]</code></dd>\n",
       "              <dt>AppName</dt>\n",
       "                <dd><code>pyspark-shell</code></dd>\n",
       "            </dl>\n",
       "        </div>\n",
       "        "
      ],
      "text/plain": [
       "<SparkContext master=local[*] appName=pyspark-shell>"
      ]
     },
     "execution_count": 2,
     "metadata": {},
     "output_type": "execute_result"
    }
   ],
   "source": [
    "sc = SparkContext.getOrCreate()\n",
    "sc"
   ]
  },
  {
   "cell_type": "markdown",
   "metadata": {},
   "source": [
    "# Creando un Pair RDD a partir de una lista de tuplas"
   ]
  },
  {
   "cell_type": "code",
   "execution_count": 3,
   "metadata": {
    "collapsed": false
   },
   "outputs": [
    {
     "data": {
      "text/plain": [
       "[{1, 'a'}, {2, 'b'}, {'c', 3}]"
      ]
     },
     "execution_count": 3,
     "metadata": {},
     "output_type": "execute_result"
    }
   ],
   "source": [
    "lista_tuplas = [{'a',1}, {'b',2}, {'c', 3}]\n",
    "lista_tuplas"
   ]
  },
  {
   "cell_type": "code",
   "execution_count": 4,
   "metadata": {
    "collapsed": false
   },
   "outputs": [
    {
     "data": {
      "text/plain": [
       "ParallelCollectionRDD[0] at parallelize at PythonRDD.scala:195"
      ]
     },
     "execution_count": 4,
     "metadata": {},
     "output_type": "execute_result"
    }
   ],
   "source": [
    "pair_rdd = sc.parallelize(lista_tuplas)\n",
    "pair_rdd"
   ]
  },
  {
   "cell_type": "code",
   "execution_count": 5,
   "metadata": {
    "collapsed": false
   },
   "outputs": [
    {
     "data": {
      "text/plain": [
       "[{1, 'a'}, {2, 'b'}, {'c', 3}]"
      ]
     },
     "execution_count": 5,
     "metadata": {},
     "output_type": "execute_result"
    }
   ],
   "source": [
    "pair_rdd.collect()"
   ]
  },
  {
   "cell_type": "markdown",
   "metadata": {},
   "source": [
    "# utilizando zip()"
   ]
  },
  {
   "cell_type": "code",
   "execution_count": 6,
   "metadata": {
    "collapsed": false
   },
   "outputs": [],
   "source": [
    "pair_rdd2 = sc.parallelize(zip(['a', 'b', 'c'], range(1,4,1)))"
   ]
  },
  {
   "cell_type": "code",
   "execution_count": 7,
   "metadata": {
    "collapsed": false
   },
   "outputs": [
    {
     "data": {
      "text/plain": [
       "[('a', 1), ('b', 2), ('c', 3)]"
      ]
     },
     "execution_count": 7,
     "metadata": {},
     "output_type": "execute_result"
    }
   ],
   "source": [
    "pair_rdd2.collect()"
   ]
  },
  {
   "cell_type": "markdown",
   "metadata": {},
   "source": [
    "# Ejemplo utizando un archivo"
   ]
  },
  {
   "cell_type": "code",
   "execution_count": 8,
   "metadata": {
    "collapsed": true
   },
   "outputs": [],
   "source": [
    "rdd_celestina = sc.textFile('La+Celestina.txt')"
   ]
  },
  {
   "cell_type": "code",
   "execution_count": 9,
   "metadata": {
    "collapsed": true
   },
   "outputs": [],
   "source": [
    "pair_rdd_celestina = rdd_celestina.map(lambda x : (x.split(' ')[0], x))"
   ]
  },
  {
   "cell_type": "code",
   "execution_count": 10,
   "metadata": {
    "collapsed": false
   },
   "outputs": [
    {
     "data": {
      "text/plain": [
       "[('**This',\n",
       "  '**This is a COPYRIGHTED Project Gutenberg Etext, Details Below**'),\n",
       " ('The', 'The Project Gutenberg Etext of La Celestina by Fernando de Rojas'),\n",
       " ('', ''),\n",
       " ('Copyright', 'Copyright 1998 R. S. Rudder'),\n",
       " ('', ''),\n",
       " ('Please', 'Please take a look at the important information in this header.'),\n",
       " ('We', 'We encourage you to keep this file on your own disk, keeping an'),\n",
       " ('electronic',\n",
       "  'electronic path open for the next readers.  Do not remove this.'),\n",
       " ('', ''),\n",
       " ('', ''),\n",
       " ('**Welcome',\n",
       "  '**Welcome To The World of Free Plain Vanilla Electronic Texts**'),\n",
       " ('', ''),\n",
       " ('**Etexts',\n",
       "  '**Etexts Readable By Both Humans and By Computers, Since 1971**'),\n",
       " ('', ''),\n",
       " ('*These', '*These Etexts Prepared By Hundreds of Volunteers and Donations*'),\n",
       " ('', ''),\n",
       " ('Information',\n",
       "  'Information on contacting Project Gutenberg to get Etexts, and'),\n",
       " ('further',\n",
       "  'further information is included below.  We need your donations.'),\n",
       " ('', ''),\n",
       " ('', ''),\n",
       " ('LA', 'LA CELESTINA [In Spanish]'),\n",
       " ('', ''),\n",
       " ('by', 'by Fernando de Rojas'),\n",
       " ('', ''),\n",
       " ('(Edicion', '(Edicion y Notas de Robert S. Rudder)'),\n",
       " ('(Edition', '(Edition and notes by Robert S. Rudder)'),\n",
       " ('Copyright', 'Copyright 1998 R. S. Rudder'),\n",
       " ('', ''),\n",
       " ('January,', 'January, 1999  [Etext #1619]'),\n",
       " ('', ''),\n",
       " ('', ''),\n",
       " ('The', 'The Project Gutenberg Etext of La Celestina, by Fernando de Rojas'),\n",
       " ('*******This',\n",
       "  '*******This file should be named 1619.txt or 1619.zip******'),\n",
       " ('', ''),\n",
       " ('The', 'The official release date of all Project Gutenberg Etexts is at'),\n",
       " ('Midnight,',\n",
       "  'Midnight, Central Time, of the last day of the stated month.  A'),\n",
       " ('preliminary',\n",
       "  'preliminary version may often be posted for suggestion, comment'),\n",
       " ('and', 'and editing by those who wish to do so.  To be sure you have an'),\n",
       " ('up', 'up to date first edition [xxxxx10x.xxx] please check file sizes'),\n",
       " ('in', 'in the first week of the next month.  Since our ftp program has'),\n",
       " ('a', 'a bug in it that scrambles the date [tried to fix and failed] a'),\n",
       " ('look', 'look at the file size will have to do, but we will try to see a'),\n",
       " ('new', 'new copy has at least one byte more or less.'),\n",
       " ('', ''),\n",
       " ('', ''),\n",
       " ('Information', 'Information about Project Gutenberg (one page)'),\n",
       " ('', ''),\n",
       " ('We', 'We produce about two million dollars for each hour we work.  The'),\n",
       " ('fifty', 'fifty hours is one conservative estimate for how long it we take'),\n",
       " ('to', 'to get any etext selected, entered, proofread, edited, copyright'),\n",
       " ('searched',\n",
       "  'searched and analyzed, the copyright letters written, etc.  This'),\n",
       " ('projected',\n",
       "  'projected audience is one hundred million readers.  If our value'),\n",
       " ('per', 'per text is nominally estimated at one dollar, then we produce 2'),\n",
       " ('million',\n",
       "  'million dollars per hour this year we, will have to do four text'),\n",
       " ('files', 'files per month:  thus upping our productivity from one million.'),\n",
       " ('The', 'The Goal of Project Gutenberg is to Give Away One Trillion Etext'),\n",
       " ('Files', 'Files by the December 31, 2001.  [10,000 x 100,000,000=Trillion]'),\n",
       " ('This', 'This is ten thousand titles each to one hundred million readers,'),\n",
       " ('which', 'which is 10% of the expected number of computer users by the end'),\n",
       " ('of', 'of the year 2001.'),\n",
       " ('', ''),\n",
       " ('We', 'We need your donations more than ever!'),\n",
       " ('', ''),\n",
       " ('All', 'All donations should be made to \"Project Gutenberg/CMU\": and are'),\n",
       " ('tax', 'tax deductible to the extent allowable by law. (CMU = Carnegie -'),\n",
       " ('Mellon', 'Mellon University).'),\n",
       " ('', ''),\n",
       " ('For', 'For these and other matters, please mail to:'),\n",
       " ('', ''),\n",
       " ('Project', 'Project Gutenberg'),\n",
       " ('P.', 'P. O. Box  2782'),\n",
       " ('Champaign,', 'Champaign, IL 61825'),\n",
       " ('', ''),\n",
       " ('Internet:', 'Internet:      dircompg@pobox.com'),\n",
       " ('CompuServe:', 'CompuServe:    >internet:dircompg@pobox.com'),\n",
       " ('Attmail:', 'Attmail:       internet!pobox.com!dircompg'),\n",
       " ('', ''),\n",
       " ('When', 'When all other email fails try our Michael S. Hart, Executive'),\n",
       " ('Director:', 'Director:'),\n",
       " ('hart@pobox.com', 'hart@pobox.com (internet)'),\n",
       " ('', ''),\n",
       " ('We', 'We would prefer to send you this information by email'),\n",
       " ('(Internet,', '(Internet, Bitnet, Compuserve, ATTMAIL or MCImail).'),\n",
       " ('', ''),\n",
       " ('******', '******'),\n",
       " ('If', 'If you have an FTP program (or emulator), please'),\n",
       " ('FTP', 'FTP directly to the Project Gutenberg archives:'),\n",
       " ('[Mac', '[Mac users, do NOT point and click. . .type]'),\n",
       " ('', ''),\n",
       " ('ftp', 'ftp mrcnext.cso.uiuc.edu'),\n",
       " ('login:', 'login:  anonymous'),\n",
       " ('password:', 'password:  your@login'),\n",
       " ('cd', 'cd etext/etext90 though etext/etext97'),\n",
       " ('or', 'or cd etext97 [for new books]'),\n",
       " ('or', 'or cd etext/articles'),\n",
       " ('dir', 'dir [to see files]'),\n",
       " ('get', 'get or mget [to get files. . .set bin for zip files]'),\n",
       " ('get', 'get INDEX100.GUT'),\n",
       " ('get', 'get INDEX200.GUT'),\n",
       " ('for', 'for a list of books'),\n",
       " ('and', 'and'),\n",
       " ('get', 'get NEW.GUT for general information'),\n",
       " ('and', 'and'),\n",
       " ('mget', 'mget GUT* for newsletters.'),\n",
       " ('', ''),\n",
       " ('**Information',\n",
       "  '**Information prepared by the Project Gutenberg legal advisor**'),\n",
       " ('(Three', '(Three Pages)'),\n",
       " ('', ''),\n",
       " ('***START**', '***START** SMALL PRINT! for COPYRIGHT PROTECTED ETEXTS ***'),\n",
       " ('TITLE', 'TITLE AND COPYRIGHT NOTICE:'),\n",
       " ('', ''),\n",
       " ('LA', 'LA CELESTINA [In Spanish]'),\n",
       " ('', ''),\n",
       " ('by', 'by Fernando de Rojas'),\n",
       " ('', ''),\n",
       " ('(Edicion', '(Edicion y Notas de Robert S. Rudder)'),\n",
       " ('(Edition', '(Edition and notes by Robert S. Rudder)'),\n",
       " ('Copyright', 'Copyright 1998 R. S. Rudder'),\n",
       " ('', ''),\n",
       " ('This', 'This etext is distributed by Professor Michael S. Hart through'),\n",
       " ('the', 'the Project Gutenberg Association at Carnegie-Mellon University'),\n",
       " ('(the',\n",
       "  '(the \"Project\") under the Project\\'s \"Project Gutenberg\" trademark'),\n",
       " ('and', \"and with the permission of the etext's copyright owner.\"),\n",
       " ('', ''),\n",
       " ('LICENSE', 'LICENSE'),\n",
       " ('You', 'You can (and are encouraged!) to copy and distribute this'),\n",
       " ('Project', 'Project Gutenberg-tm etext.  Since, unlike many other of the'),\n",
       " (\"Project's\", \"Project's etexts, it is copyright protected, and since the\"),\n",
       " ('materials', \"materials and methods you use will effect the Project's\"),\n",
       " ('reputation,', 'reputation,'),\n",
       " ('your', 'your right to copy and distribute it is limited by the copyright'),\n",
       " ('laws', 'laws and by the conditions of this \"Small Print!\" statement.'),\n",
       " ('', ''),\n",
       " ('', '  [A]  ALL COPIES: The Project permits you to distribute'),\n",
       " ('copies', 'copies of this etext electronically or on any machine readable'),\n",
       " ('medium', 'medium now known or hereafter discovered so long as you:'),\n",
       " ('', ''),\n",
       " ('', '     (1)  Honor the refund and replacement provisions of this'),\n",
       " ('\"Small', '\"Small Print!\" statement; and'),\n",
       " ('', ''),\n",
       " ('', '     (2)  Pay a royalty to the Project of 20% of the net'),\n",
       " ('profits', 'profits you derive calculated using the method you already use'),\n",
       " ('to', \"to calculate your applicable taxes.  If you don't derive\"),\n",
       " ('profits,',\n",
       "  'profits, no royalty is due.  Royalties are payable to \"Project'),\n",
       " ('Gutenberg', 'Gutenberg Association/Carnegie Mellon-University\" within'),\n",
       " ('the', 'the 60 days following each date you prepare (or were legally'),\n",
       " ('required', 'required to prepare) your annual (or equivalent periodic) tax'),\n",
       " ('return.', 'return.'),\n",
       " ('', ''),\n",
       " ('', '  [B]  EXACT AND MODIFIED COPIES: The copies you distribute'),\n",
       " ('must', 'must either be exact copies of this etext, including this'),\n",
       " ('Small', 'Small Print statement, or can be in binary, compressed, mark-'),\n",
       " ('up,', 'up, or proprietary form (including any form resulting from'),\n",
       " ('word', 'word processing or hypertext software), so long as *EITHER*:'),\n",
       " ('', ''),\n",
       " ('', '     (1)  The etext, when displayed, is clearly readable, and'),\n",
       " ('does', 'does *not* contain characters other than those intended by the'),\n",
       " ('author', 'author of the work, although tilde (~), asterisk (*) and'),\n",
       " ('underline', 'underline (_) characters may be used to convey punctuation'),\n",
       " ('intended', 'intended by the author, and additional characters may be used'),\n",
       " ('to', 'to indicate hypertext links; OR'),\n",
       " ('', ''),\n",
       " ('', '     (2)  The etext is readily convertible by the reader at no'),\n",
       " ('expense', 'expense into plain ASCII, EBCDIC or equivalent form by the'),\n",
       " ('program', 'program that displays the etext (as is the case, for instance,'),\n",
       " ('with', 'with most word processors); OR'),\n",
       " ('', ''),\n",
       " ('', '     (3)  You provide or agree to provide on request at no'),\n",
       " ('additional',\n",
       "  'additional cost, fee or expense, a copy of the etext in plain'),\n",
       " ('ASCII.', 'ASCII.'),\n",
       " ('', ''),\n",
       " ('LIMITED', 'LIMITED WARRANTY; DISCLAIMER OF DAMAGES'),\n",
       " ('This', 'This etext may contain a \"Defect\" in the form of incomplete,'),\n",
       " ('inaccurate',\n",
       "  'inaccurate or corrupt data, transcription errors, a copyright'),\n",
       " ('or', 'or other infringement, a defective or damaged disk, computer'),\n",
       " ('virus,', 'virus, or codes that damage or cannot be read by your'),\n",
       " ('equipment.', 'equipment.  But for the \"Right of Replacement or Refund\"'),\n",
       " ('described', 'described below, the Project (and any other party you may'),\n",
       " ('receive', 'receive this etext from as a PROJECT GUTENBERG-tm etext)'),\n",
       " ('disclaims', 'disclaims all liability to you for damages, costs and'),\n",
       " ('expenses,', 'expenses, including legal fees, and YOU HAVE NO REMEDIES FOR'),\n",
       " ('NEGLIGENCE', 'NEGLIGENCE OR UNDER STRICT LIABILITY, OR FOR BREACH OF'),\n",
       " ('WARRANTY', 'WARRANTY OR CONTRACT, INCLUDING BUT NOT LIMITED TO INDIRECT,'),\n",
       " ('CONSEQUENTIAL,',\n",
       "  'CONSEQUENTIAL, PUNITIVE OR INCIDENTAL DAMAGES, EVEN IF YOU'),\n",
       " ('GIVE', 'GIVE NOTICE OF THE POSSIBILITY OF SUCH DAMAGES.'),\n",
       " ('', ''),\n",
       " ('If', 'If you discover a Defect in this etext within 90 days of'),\n",
       " ('receiving', 'receiving it, you can receive a refund of the money (if any)'),\n",
       " ('you', 'you paid for it by sending an explanatory note within that'),\n",
       " ('time', 'time to the person you received it from.  If you received it'),\n",
       " ('on', 'on a physical medium, you must return it with your note, and'),\n",
       " ('such', 'such person may choose to alternatively give you a replacement'),\n",
       " ('copy.', 'copy.  If you received it electronically, such person may'),\n",
       " ('choose', 'choose to alternatively give you a second opportunity to'),\n",
       " ('receive', 'receive it electronically.'),\n",
       " ('', ''),\n",
       " ('THIS', 'THIS ETEXT IS OTHERWISE PROVIDED TO YOU \"AS-IS\".  NO OTHER'),\n",
       " ('WARRANTIES',\n",
       "  'WARRANTIES OF ANY KIND, EXPRESS OR IMPLIED, ARE MADE TO YOU AS'),\n",
       " ('TO', 'TO THE ETEXT OR ANY MEDIUM IT MAY BE ON, INCLUDING BUT NOT'),\n",
       " ('LIMITED', 'LIMITED TO WARRANTIES OF MERCHANTABILITY OR FITNESS FOR A'),\n",
       " ('PARTICULAR',\n",
       "  'PARTICULAR PURPOSE.  Some states do not allow disclaimers of'),\n",
       " ('implied', 'implied warranties or the exclusion or limitation of'),\n",
       " ('consequential',\n",
       "  'consequential damages, so the above disclaimers and exclusions'),\n",
       " ('may', 'may not apply to you, and you may have other legal rights.'),\n",
       " ('', ''),\n",
       " ('INDEMNITY', 'INDEMNITY'),\n",
       " ('You', 'You will indemnify and hold the Project, its directors,'),\n",
       " ('officers,',\n",
       "  'officers, members and agents harmless from all liability, cost'),\n",
       " ('and', 'and expense, including legal fees, that arise directly or'),\n",
       " ('indirectly', 'indirectly from any of the following that you do or cause:'),\n",
       " ('[1]', '[1] distribution of this etext, [2] alteration, modification,'),\n",
       " ('or', 'or addition to the etext, or [3] any Defect.'),\n",
       " ('', ''),\n",
       " ('WHAT', \"WHAT IF YOU *WANT* TO SEND MONEY EVEN IF YOU DON'T HAVE TO?\"),\n",
       " ('Project', 'Project Gutenberg is dedicated to increasing the number of'),\n",
       " ('public', 'public domain and licensed works that can be freely distributed'),\n",
       " ('in', 'in machine readable form.  The Project gratefully accepts'),\n",
       " ('contributions',\n",
       "  'contributions in money, time, scanning machines, OCR software,'),\n",
       " ('public', 'public domain etexts, royalty free copyright licenses,'),\n",
       " ('and', 'and whatever else you can think of.  Money should be paid to'),\n",
       " ('\"Project', '\"Project Gutenberg Association/Carnegie-Mellon University\".'),\n",
       " ('', ''),\n",
       " ('*SMALL', '*SMALL PRINT! Ver.04.29.93 FOR COPYRIGHT PROTECTED ETEXTS*END*'),\n",
       " ('', ''),\n",
       " ('', ''),\n",
       " ('', ''),\n",
       " ('', ''),\n",
       " ('', ''),\n",
       " ('**This',\n",
       "  '**This is a COPYRIGHTED Project Gutenberg Etext, Details Below**'),\n",
       " ('The', 'The Project Gutenberg Etext of La Celestina by Fernando de Rojas'),\n",
       " ('', ''),\n",
       " ('Copyright', 'Copyright 1998 R. S. Rudder'),\n",
       " ('', ''),\n",
       " ('', ''),\n",
       " ('', ''),\n",
       " ('', ''),\n",
       " ('', ''),\n",
       " ('LA', 'LA CELESTINA'),\n",
       " ('', ''),\n",
       " ('por', 'por'),\n",
       " ('', ''),\n",
       " ('Fernando', 'Fernando de Rojas'),\n",
       " ('', ''),\n",
       " ('(Edicion', '(Edicion y Notas de Robert S. Rudder)'),\n",
       " ('', ''),\n",
       " ('Copyright', 'Copyright 1998 R. S. Rudder'),\n",
       " ('', ''),\n",
       " ('', ''),\n",
       " ('', ''),\n",
       " ('', ''),\n",
       " ('I.', 'I. Introduccion'),\n",
       " ('', ''),\n",
       " ('II.', 'II. La Celestina'),\n",
       " ('', ''),\n",
       " ('III', 'III Glosario y Notas'),\n",
       " ('', ''),\n",
       " ('', ''),\n",
       " ('', ''),\n",
       " ('', ''),\n",
       " ('INTRODUCCION', 'INTRODUCCION'),\n",
       " ('', ''),\n",
       " ('Si', 'Si bien es cierto que \"La Celestina\" nos deja con muchas dudas'),\n",
       " ('sobre',\n",
       "  'sobre la personalidad de los personajes, esta misma vaguedad hace'),\n",
       " ('que', 'que la obra parezca mas realista, permitiendo incluso una lectura'),\n",
       " ('moderna.',\n",
       "  'moderna. Poco sabemos tambien sobre la autoria de la obra; sabemos'),\n",
       " ('que', 'que Fernando de Rojas, el unico autor conocido, fue un judio'),\n",
       " ('converso,',\n",
       "  'converso, nacido en Montalban, y que estudio en la Universidad de'),\n",
       " ('Salamanca.', 'Salamanca. Despues de haber escrito esta obra maestra en su'),\n",
       " ('juventud,',\n",
       "  'juventud, simplemente desaparecio de la escena literaria: fue a'),\n",
       " ('Talavera',\n",
       "  'Talavera para ejercer el oficio de abogado, y alli murio en 1541.'),\n",
       " ('', ''),\n",
       " ('El', 'El lugar de la accion de la obra no tiene semejanza geografica'),\n",
       " ('especifica',\n",
       "  'especifica con ningun pueblo de Espana.  Quedan tambien como meras'),\n",
       " ('sombras',\n",
       "  'sombras varios grupos de personajes (la muchedumbre que asiste al'),\n",
       " ('ajusticiamiento',\n",
       "  'ajusticiamiento de Sempronio y Parmeno; los vecinos congregados'),\n",
       " ('alrededor',\n",
       "  'alrededor de Pleberio cuando este da su discurso final). Y aunque'),\n",
       " ('las', 'las descripciones fisicas de los personajes centrales de la obra'),\n",
       " ('no', 'no son nada mas que bosquejos, hay una gran profundidad en sus'),\n",
       " ('personalidades.',\n",
       "  'personalidades.  Los dos personajes centrales cuyas vidas y'),\n",
       " ('destinos',\n",
       "  'destinos se enlazan apasionadamente, Calisto y Melibea, comparten'),\n",
       " ('una', 'una historia que se extiende mas alla de los confines de \"La'),\n",
       " ('Celestina\".',\n",
       "  'Celestina\".  Desde sus primeras palabras vemos que se han conocido'),\n",
       " ('antes', 'antes del comienzo de la obra:  \"en tan conueniente lugar que mi'),\n",
       " ('secreto',\n",
       "  'secreto dolor manifestarte pudiesse.  sin dubda encomparablemente'),\n",
       " ('es', 'es mayor tal galardon que el seruicio: sacrificio: deuocion e'),\n",
       " ('obras',\n",
       "  'obras pias que por este lugar alcanzar tengo yo a dios ofrescido.\"'),\n",
       " ('Estas', 'Estas vidas que se mueven tanto dentro como fuera de la obra,'),\n",
       " ('encontraran', 'encontraran su eco mas de cien anos despues en el arte de'),\n",
       " ('Velazquez',\n",
       "  'Velazquez donde hay figuras que aparecen dentro y fuera de la'),\n",
       " ('pintura.', 'pintura.'),\n",
       " ('', ''),\n",
       " ('Para', 'Para esta edicion electronica se han utilizado las cuatro'),\n",
       " ('siguientes', 'siguientes versiones de \"La Celestina\":'),\n",
       " ('', ''),\n",
       " ('1.', '1. \"Comedia de Calisto y Melibea\", Burgos, 1499.  16 actos.'),\n",
       " ('Facsimile.', 'Facsimile.'),\n",
       " ('', ''),\n",
       " ('2.', '2. \"Comedia de Calisto y Melibea\", Toledo, 1500.  16 actos,'),\n",
       " ('Facsimile.',\n",
       "  'Facsimile. Esta edicion tiene una carta del \"autor a un su amigo\",'),\n",
       " ('donde', 'donde dice que encontro el primer acto, y que escribio los demas'),\n",
       " ('actos', 'actos en quince dias de vacaciones.  Tambien hay versos de \"El'),\n",
       " ('autor', 'autor escusandose de su yerro en esta obra que escriuio...\" los'),\n",
       " ('cuales', 'cuales son un acrostico que revela lo siguiente: \"El bachjller'),\n",
       " ('fernando', 'fernando de royas acabo la comedia de calysto y melybea y fve'),\n",
       " ('nascjdo', 'nascjdo en la puebla de montalvan.\"'),\n",
       " ('', ''),\n",
       " ('3.', '3.  \"Comedia de Calisto y Melibea\", Sevilla, 1501.  Edicion de'),\n",
       " ('Foulche-Delbosc',\n",
       "  'Foulche-Delbosc (1900).  Semejante a la edicion de Toledo, 1500,'),\n",
       " ('con', 'con unas variaciones en la \"carta\" y en los primeros versos.'),\n",
       " ('', ''),\n",
       " ('4.', '4. \"Tragicomedia de Calisto y Melibea\", Valencia, 1514.  21 actos'),\n",
       " ('y', 'y otras interpolaciones.  Facsimile.'),\n",
       " ('', ''),\n",
       " ('He', 'He mantenido la ortografia y puntuacion de los facsimiles para dar'),\n",
       " ('un', 'un sentido autentico a esta version electronica.  Los cinco actos'),\n",
       " ('y', 'y otras interpolaciones anadidos en la edicion de Valencia (1514)'),\n",
       " ('estan', 'estan marcados entre comillas (\").  Las unicas concesiones a la'),\n",
       " ('puntuacion',\n",
       "  'puntuacion moderna son el uso, de vez en cuando, de la coma (,),'),\n",
       " ('el', 'el punto y coma (;), y la exclamacion (!); estas tres no existen'),\n",
       " ('en', 'en los facsimiles. Tampoco he podido usar el tilde a causa de los'),\n",
       " ('limites', 'limites de este modo de transmision, y el lector tendra que'),\n",
       " ('ponerlo.',\n",
       "  'ponerlo.  En cuanto al acento, esta transmision electronica no'),\n",
       " ('permite', 'permite tal cosa, pero tampoco existe en los facsimiles.'),\n",
       " ('', ''),\n",
       " ('Mi', 'Mi sincero agradecimiento al Profesor Juan de Castro, Magdalena de'),\n",
       " ('Castro,', 'Castro, y Gloria Arjona.'),\n",
       " ('', ''),\n",
       " ('Robert', 'Robert S. Rudder'),\n",
       " ('California', 'California State University, Los Angeles'),\n",
       " ('Junio,', 'Junio, 1998'),\n",
       " ('', ''),\n",
       " ('', ''),\n",
       " ('', ''),\n",
       " ('', ''),\n",
       " ('', ''),\n",
       " ('[LA', '[LA CELESTINA]'),\n",
       " ('', ''),\n",
       " ('\"TRAGI\"', '\"TRAGI\" COMEDIA'),\n",
       " ('DE', 'DE CALISTO Y MELIBEA'),\n",
       " ('', ''),\n",
       " ('\"nueuamente', '\"nueuamente reuista'),\n",
       " ('y', 'y emendada con addicion de los'),\n",
       " ('argumentos', 'argumentos de cada vn auto en principio.\" la'),\n",
       " ('qual', 'qual contiene demas de su agradable e'),\n",
       " ('dulce', 'dulce estilo muchas sentencias filosofales:'),\n",
       " ('e', 'e auisos muy necessarios para'),\n",
       " ('mancebos:', 'mancebos: mostrandoles los enganos que estan'),\n",
       " ('encerrados', 'encerrados en siruientes e alcahuetas.'),\n",
       " ('', ''),\n",
       " ('', ''),\n",
       " ('', ''),\n",
       " ('\"EL', '\"EL AUCTOR'),\n",
       " ('', ''),\n",
       " ('A', 'A VN SU AMIGO.'),\n",
       " ('', ''),\n",
       " ('', ''),\n",
       " ('Suelen', 'Suelen los que de sus tierras absentes se hallan considerar: de'),\n",
       " ('que', 'que cosa aquel lugar donde parten mayor inopia, o falta padezca:'),\n",
       " ('para',\n",
       "  'para con la tal seruir a los conterraneos de quien en algun tiempo'),\n",
       " ('beneficio',\n",
       "  'beneficio recebido tienen: e viendo que legitima obligacion a'),\n",
       " ('inuestigar', 'inuestigar lo semejante me compelia: para pagar las muchas'),\n",
       " ('mercedes', 'mercedes de vuestra libre liberalidad recebidas: assaz vezes'),\n",
       " ('retraydo',\n",
       "  'retraydo en mi camara acostado sobre mi propia mano: echando mis'),\n",
       " ('sentidos',\n",
       "  'sentidos por ventores: e mi juyzio a bolar: me venia a la memoria:'),\n",
       " ('no', 'no solo la necessidad que nuestra comun patria tiene de la'),\n",
       " ('presente',\n",
       "  'presente obra por la muchedumbre de galanes: e enamorados mancebos'),\n",
       " ('que', 'que posee: pero avn en particular vuestra misma persona: cuya'),\n",
       " ('juuentud',\n",
       "  'juuentud de amor ser presa: se me representa auer visto: e del'),\n",
       " ('cruelmente',\n",
       "  'cruelmente lastimada: a causa de le faltar defensiuas armas para'),\n",
       " ('resistir', 'resistir sus fuegos:  Las quales halle esculpidas en estos'),\n",
       " ('papeles:',\n",
       "  'papeles: no fabricadas en las grandes herrerias de Milan: mas en'),\n",
       " ('los', 'los claros ingenios de doctos varones castellanos formadas:  e'),\n",
       " ('como', 'como mirasse su primor: sotil artificio: su fuerte e claro metal:'),\n",
       " ('su', 'su modo e manera de lauor: su estilo elegante: jamas en nuestra'),\n",
       " ('castellana',\n",
       "  'castellana lengua visto ni oydo.  Leylo tres o quatro vezes: e'),\n",
       " ('tantas', 'tantas quantas mas lo leya: tanta mas necessidad me ponia de'),\n",
       " ('releerlo:', 'releerlo: e tanto mas me agradaua: y en su processo nueuas'),\n",
       " ('sentencias',\n",
       "  'sentencias sentia:  vi no solo ser dulce en su principal hystoria:'),\n",
       " ('o', 'o ficion toda junta. pero avn de algunas sus particularidades'),\n",
       " ('salian', 'salian deleytables fontezicas de filosofia: de otros agradables'),\n",
       " ('donayres:',\n",
       "  'donayres: de otros auisos e consejos contra lisonjeros e malos'),\n",
       " ('siruientes:',\n",
       "  'siruientes: e falsas mugeres hechizeras.  vi que no tenia su firma'),\n",
       " ('del', 'del autor: el qual segun algunos dizen fue Juan de Mena: e segun'),\n",
       " ('otros', 'otros Rodrigo Cota.  pero quien quier que fuesse: es digno de'),\n",
       " ('recordable',\n",
       "  'recordable memoria por la sotil inuencion: por la gran copia de'),\n",
       " ('sentencias',\n",
       "  'sentencias entrexeridas: que so color de donayres tiene: gran'),\n",
       " ('filosofo', 'filosofo era.  e pues el con temor de detractores e nocibles'),\n",
       " ('lenguas',\n",
       "  'lenguas mas aparejadas a reprehender que a saber inuentar: quiso'),\n",
       " ('celar',\n",
       "  'celar e encubrir su nombre: no me culpeys si en el fin baxo que lo'),\n",
       " ('pongo', 'pongo no espressare el mio: mayormente que siendo jurista yo:'),\n",
       " ('avnque',\n",
       "  'avnque obra discreta: es agena de mi facultad. e quien lo supiesse'),\n",
       " ('diria:',\n",
       "  'diria: que no por recreacion de mi principal estudio: del qual yo'),\n",
       " ('mas', 'mas me precio como es la verdad lo hiziesse: antes distraydo de'),\n",
       " ('los', 'los derechos en esta nueua labor me entremetiesse: pero avnque no'),\n",
       " ('acierten', 'acierten seria pago de mi osadia.  assimesmo pensarian que no'),\n",
       " ('quinze',\n",
       "  'quinze dias de vnas vacaciones: mientra mis socios en sus tierras'),\n",
       " ('en', 'en acabarlo me detuuiesse como es lo cierto pero avn mas tiempo: e'),\n",
       " ('menos',\n",
       "  'menos acepto: para desculpa de lo qual todo no solo a vos: pero a'),\n",
       " ('quantos', 'quantos lo leyeren: offrezco los siguientes metros.  E porque'),\n",
       " ('conozcays',\n",
       "  'conozcays donde comienzan mis maldoladas razones [e acaban las del'),\n",
       " ('antiguo',\n",
       "  'antiguo autor, en la margen hallareys una cruz; y es el fin de la'),\n",
       " ('primera',\n",
       "  'primera cena.]  acorde que todo lo del antiguo autor: fuesse sin'),\n",
       " ('diuision',\n",
       "  'diuision en vn aucto: o cena incluso hasta el segundo auto donde'),\n",
       " ('dize.', 'dize. Hermanos mios &c. Uale.\"'),\n",
       " ('', ''),\n",
       " ('', ''),\n",
       " ('', ''),\n",
       " ('EL', 'EL AUTOR'),\n",
       " ('', ''),\n",
       " ('ESCUSANDOSE', 'ESCUSANDOSE DE SU YERRO EN ESTA OBRA'),\n",
       " ('QUE', 'QUE ESCRIUIO, CONTRA Sl ARGUYE E COMPARA.'),\n",
       " ('', ''),\n",
       " ('El', 'El silencio escuda y suele encobrir'),\n",
       " ('las', 'las faltas de ingenio & las torpes lenguas:'),\n",
       " ('blason,', 'blason, que es contrario: publica sus menguas'),\n",
       " ('al', 'al que mucho habla sin mucho sentir.'),\n",
       " ('como', 'como la hormiga que dexa de yr:'),\n",
       " ('holgando', 'holgando por tierra, con la prouision:'),\n",
       " ('jactose', 'jactose con alas de su perdicion:'),\n",
       " ('lleuaronla', 'lleuaronla en alto, no sabe dondyr.'),\n",
       " ('', ''),\n",
       " ('Prosigue', 'Prosigue'),\n",
       " ('', ''),\n",
       " ('El', 'El ayre gozando ageno y estrano:'),\n",
       " ('rapina', 'rapina es ya hecha de aues que buelan:'),\n",
       " ('fuertes', 'fuertes mas que ella, por ceuo la lleuan:'),\n",
       " ('en', 'en las nueuas alas estaua su dano:'),\n",
       " ('razon', 'razon es que aplique mi pluma este engano,'),\n",
       " ('no', 'no dissimulando con los que arguyen'),\n",
       " ('assi,', 'assi, que a mi mesmo mis alas destruyen:'),\n",
       " ('nublosas', 'nublosas & flacas, nascidas de ogano.'),\n",
       " ('', ''),\n",
       " ('Prosigue', 'Prosigue'),\n",
       " ('', ''),\n",
       " ('Donde', 'Donde esta gozar pensaua volando'),\n",
       " ('oyo', 'oyo aqui escriuiendo cobrar mas honor,'),\n",
       " ('de', 'de lo vno & lo otro nascio disfauor,'),\n",
       " ('ella', 'ella es comida y a mi estan cortando.'),\n",
       " ('reproches,', 'reproches, reuistas y tachas callando'),\n",
       " ('obstara:', 'obstara: y a los danos de inuidia & murmuros'),\n",
       " ('y', 'y assi nauegando los puertos seguros'),\n",
       " ('atras', 'atras quedan todos ya quanto mas ando.'),\n",
       " ('', ''),\n",
       " ('Prosigue.', 'Prosigue.'),\n",
       " ('', ''),\n",
       " ('Si', 'Si bien discerneys mi limpio motiuo,'),\n",
       " ('a', 'a qual se adereza de aquestos estremos,'),\n",
       " ('con', 'con qual participa, quien rige sus remos'),\n",
       " ('amor', 'amor aplazible o desamor esquiuo:'),\n",
       " ('buscad', 'buscad bien el fin de aquesto que escriuo,'),\n",
       " ('o', 'o del principio leed su argumento;'),\n",
       " ('leeldo', 'leeldo y vereys que avnque dulce cuento,'),\n",
       " ('amantes', 'amantes que os muestra salir de catiuo.'),\n",
       " ('', ''),\n",
       " ('Comparacion.', 'Comparacion.'),\n",
       " ('', ''),\n",
       " ('Como', 'Como al doliente que pildora amarga'),\n",
       " ('o', 'o huye, o recela. o no puede tragar,'),\n",
       " ('metenla', 'metenla dentro de dulce manjar,'),\n",
       " ('enganase', 'enganase el gusto, la salud se alarga:'),\n",
       " ('desta', 'desta manera la pluma se embarga,'),\n",
       " ('imponiendo', 'imponiendo dichos lasciuos, rientes,'),\n",
       " ('atrae', 'atrae los oydos de penadas gentes,'),\n",
       " ('de', 'de grado escarmientan y arrojan su carga.'),\n",
       " ('', ''),\n",
       " ('Buelue', 'Buelue a su proposito.'),\n",
       " ('', ''),\n",
       " ('Este', 'Este mi desseo cargado de antojos'),\n",
       " ('compuso', 'compuso tal fin quel principio desata,'),\n",
       " ('acordo', 'acordo de dorar con oro de lata'),\n",
       " ('lo', 'lo mas fino oro, que vio con sus ojos:'),\n",
       " ('y', 'y encima de rosas sembrar mill abrojos,'),\n",
       " ('suplico', 'suplico pues suplan discretos mi falta,'),\n",
       " ('teman', 'teman grosseros; y en obra tan alta,'),\n",
       " ('o', 'o vean y callen, o no den enojos.'),\n",
       " ('', ''),\n",
       " ('', ''),\n",
       " ('', ''),\n",
       " ('Prosigue', 'Prosigue dando razon'),\n",
       " ('porque', 'porque se mouio a acabar esta obra.'),\n",
       " ('', ''),\n",
       " ('Yo', 'Yo vi en Salamanca la obra presente;'),\n",
       " ('mouime', 'mouime a acabarla por estas razones,'),\n",
       " ('es', 'es la primera, que esto en vacaciones;'),\n",
       " ('la', 'la otra que oy su inuentor ser sciente:'),\n",
       " ('y', 'y es la final, ver ya la mas gente'),\n",
       " ('buelta', 'buelta y mezclada en vicios de amor;'),\n",
       " ('estos', 'estos amantes les pornan temor'),\n",
       " ('a', 'a fiar de alcahueta, ni de mal siruiente.'),\n",
       " ('', ''),\n",
       " ('Y', 'Y assi que esta obra a mi flaco entender'),\n",
       " ('fue', 'fue tanto breue, quanto muy sutil,'),\n",
       " ('vi', 'vi que portaua sentencias dos mill'),\n",
       " ('en', 'en forro de gracias, labor de plazer:'),\n",
       " ('no', 'no hizo Dedalo en su officio e saber'),\n",
       " ('alguna', 'alguna mas prima entretalladura,'),\n",
       " ('si', 'si fin diera en esta su propia escriptura'),\n",
       " ('corta:', 'corta: vn gran hombre y de mucho valer.'),\n",
       " ('', ''),\n",
       " ('', ''),\n",
       " ('Jamas', 'Jamas yo no vi terenciana,'),\n",
       " ('despues', 'despues que me acuerdo, ni nadie la vido,'),\n",
       " ('obra', 'obra de estilo tan alto y subido'),\n",
       " ('en', 'en lengua comun vulgar castellana.'),\n",
       " ('no', 'no tiene sentencia de donde no mana'),\n",
       " ('loable', 'loable a su autor y eterna memoria.'),\n",
       " ('al', 'al qual Jesu Christo reciba en su gloria'),\n",
       " ('por', 'por su passion sancta que a todos nos sana.'),\n",
       " ('', ''),\n",
       " ('Amonesta', 'Amonesta a los que aman que siruan a dios'),\n",
       " ('y', 'y dexen las malas cogitaciones y vicios de amor.'),\n",
       " ('', ''),\n",
       " ('Uosotros', 'Uosotros que amays, tomad este enxemplo,'),\n",
       " ('este', 'este fino arnes con que os defendays;'),\n",
       " ('bolued', 'bolued ya las riendas, porque nos perdays;'),\n",
       " ('load', 'load siempre a dios visitando su templo;'),\n",
       " ('andad', 'andad sobre auiso, no seays en dexemplo'),\n",
       " ('de', 'de muertos y biuos y propios culpados;'),\n",
       " ('estando', 'estando en el mundo yazeys sepultados;'),\n",
       " ('muy', 'muy gran dolor siento quando esto contemplo.'),\n",
       " ('', ''),\n",
       " ('Fin', 'Fin'),\n",
       " ('', ''),\n",
       " ('Oluidemos', 'Oluidemos los vicios que assi nos prendieron;'),\n",
       " ('no', 'no confiemos en vana esperanza,'),\n",
       " ('temamos', 'temamos aquel que espinas y lanza,'),\n",
       " ('azotes', 'azotes y clauos su sangre vertieron;'),\n",
       " ('la', 'la su santa faz herida escupieron;'),\n",
       " ('vinagre', 'vinagre con hiel fue su potacion;'),\n",
       " ('a', 'a cada costado consintio vn ladron;'),\n",
       " ('nos', 'nos lleue le ruego con los quel creyeron. [Toledo 1500, Sevilla'),\n",
       " ('1501]', '1501]'),\n",
       " ('', ''),\n",
       " ('', ''),\n",
       " ('', ''),\n",
       " ('', ''),\n",
       " ('', ''),\n",
       " ('', ''),\n",
       " ('\"EL', '\"EL AUTOR ESCUSANDOSE DE SU YERRO EN ESTA'),\n",
       " ('OBRA', 'OBRA QUE ESCRIUIO CONTRA Sl ARGUYE E COMPARA.'),\n",
       " ('', ''),\n",
       " ('El', 'El silencio escuda y suele encubrir'),\n",
       " ('la', 'la falta de ingenio e torpeza de lenguas'),\n",
       " ('blason', 'blason que es contrario: publica sus menguas'),\n",
       " ('a', 'a quien mucho habla sin mucho sentir:'),\n",
       " ('como', 'como hormiga que dexa de yr'),\n",
       " ('holgando', 'holgando por tierra con la prouision'),\n",
       " ('jactose', 'jactose con alas de su perdicion'),\n",
       " ('lleuaronla', 'lleuaronla en alto no sabe donde yr.'),\n",
       " ('', ''),\n",
       " ('Prosigue.', 'Prosigue.'),\n",
       " ('', ''),\n",
       " ('El', 'El ayre gozando ageno y estrano'),\n",
       " ('rapina', 'rapina es ya hecha de aues que buelan'),\n",
       " ('fuertes', 'fuertes mas que ella por ceuo la lleuan'),\n",
       " ('en', 'en las nueuas alas estaua su dano:'),\n",
       " ('razon', 'razon es que aplique a mi pluma este engano'),\n",
       " ('no', 'no despreciando a los que me arguyen'),\n",
       " ('assi', 'assi que a mi mismo mis alas destruyen'),\n",
       " ('nublosas', 'nublosas e flacas nascidas de ogano.'),\n",
       " ('', ''),\n",
       " ('Prosigue.', 'Prosigue.'),\n",
       " ('', ''),\n",
       " ('Donde', 'Donde esta gozar pensaua bolando'),\n",
       " ('o', 'o yo de screuir cobrar mas honor'),\n",
       " ('del', 'del vno del otro nascio disfauor'),\n",
       " ('ella', 'ella es comida e a mi estan cortando:'),\n",
       " ('reproches', 'reproches reuistas e tachas callando'),\n",
       " ('obstara:', 'obstara: e los danos de inuidia e murmuros'),\n",
       " ('insisto', 'insisto remando e los puertos seguros'),\n",
       " ('atras', 'atras quedan todos ya quanto mas ando.'),\n",
       " ('', ''),\n",
       " ('Prosigue.', 'Prosigue.'),\n",
       " ('', ''),\n",
       " ('Si', 'Si bien quereys ver mi limpio motiuo'),\n",
       " ('a', 'a qual se endereza de aquestos estremos'),\n",
       " ('con', 'con qual participa quien rige sus remos'),\n",
       " ('Apollo:', 'Apollo: Diana / o Cupido altiuo:'),\n",
       " ('buscad', 'buscad bien el fin de aquesto que escriuo'),\n",
       " ('o', 'o del principio leed su argumento'),\n",
       " ('leeldo', 'leeldo vereys: que avnque dulce cuento'),\n",
       " ('amantes', 'amantes que os muestra salir de catiuo.'),\n",
       " ('', ''),\n",
       " ('Comparacion.', 'Comparacion.'),\n",
       " ('', ''),\n",
       " ('Como', 'Como el doliente que pildora amarga'),\n",
       " ('o', 'o la recela: o no puede tragar'),\n",
       " ('metela', 'metela dentro de dulce manjar'),\n",
       " ('enganase', 'enganase el gusto la salud se alarga:'),\n",
       " ('desta', 'desta manera mi pluma se embarga'),\n",
       " ('imponiendo', 'imponiendo dichos lasciuos rientes'),\n",
       " ('atrae', 'atrae los oydos de penadas gentes.'),\n",
       " ('de', 'de grado escarmientan e arrojan su carga.'),\n",
       " ('', ''),\n",
       " ('Buelue', 'Buelue a su proposito.'),\n",
       " ('', ''),\n",
       " ('Estando', 'Estando cercado de dubdas e antojos'),\n",
       " ('compuse', 'compuse tal fin quel principio desata'),\n",
       " ('acorde', 'acorde dorar con oro de lata'),\n",
       " ('lo', 'lo mas fino tibar que vi con mis ojos:'),\n",
       " ('y', 'y encima de rosas sembrar mill abrojos'),\n",
       " ('suplico', 'suplico pues suplan discretos mi falta'),\n",
       " ('teman', 'teman grosseros y en obra tan alta'),\n",
       " ('o', 'o vean e callen: o no den enojos.'),\n",
       " ('', ''),\n",
       " ('', ''),\n",
       " ('', ''),\n",
       " ('Prosigue', 'Prosigue dando razones'),\n",
       " ('porque', 'porque se mouio a acabar esta obra.'),\n",
       " ('', ''),\n",
       " ('yo', 'yo vi en Salamanca la obra presente'),\n",
       " ('mouime', 'mouime acabarla por estas razones'),\n",
       " ('es', 'es la primera que esto en vacaciones'),\n",
       " ('la', 'la otra inuentar [imitar] la persona prudente:'),\n",
       " ('y', 'y es la final ver ya la mas gente'),\n",
       " ('buelta', 'buelta e mezclada en vicios de amor'),\n",
       " ('estos', 'estos amantes les pornan temor'),\n",
       " ('a', 'a fiar de alcahueta ni falso siruiente.'),\n",
       " ('', ''),\n",
       " ('y', 'y assi que esta obra en el proceder'),\n",
       " ('fue', 'fue tanto breue quanto muy sotil'),\n",
       " ('vi', 'vi que portaua sentencias dos mill'),\n",
       " ('en', 'en forro de gracias lauor de plazer:'),\n",
       " ('no', 'no hizo Dedalo cierto a mi ver'),\n",
       " ('alguna', 'alguna mas prima entretalladura'),\n",
       " ('si', 'si fin diera en esta su propia escriptura'),\n",
       " ('Cota', 'Cota o Mena con su gran saber.'),\n",
       " ('', ''),\n",
       " ('', ''),\n",
       " ('Jamas', 'Jamas yo no vide en lengua romana'),\n",
       " ('despues', 'despues que me acuerdo: ni nadie la vido'),\n",
       " ('obra', 'obra de estilo tan alto e sobido'),\n",
       " ('en', 'en tusca: ni griega: ni en castellana:'),\n",
       " ('no', 'no trae sentencia de donde no mana'),\n",
       " ('loable', 'loable a su autor y eterna memoria'),\n",
       " ('al', 'al qual Jesucristo reciba en su gloria'),\n",
       " ('por', 'por su passion santa que a todos nos sana.'),\n",
       " ('', ''),\n",
       " ('Amonesta', 'Amonesta a los que aman que siruan a dios'),\n",
       " ('y', 'y dexen las malas cogitacions e vicios de amor.'),\n",
       " ('', ''),\n",
       " ('Uos', 'Uos los que amays tomad este enxemplo'),\n",
       " ('este', 'este fino arnes con que os defendays'),\n",
       " ('bolued', 'bolued ya las riendas porque no os perdays'),\n",
       " ('load', 'load siempre a dios visitando su templo'),\n",
       " ('andad', 'andad sobre auiso no seays dexemplo'),\n",
       " ('de', 'de muertos e biuos e propios culpados'),\n",
       " ('estando', 'estando en el mundo yazeys sepultados'),\n",
       " ('muy', 'muy gran dolor siento quando esto contemplo.'),\n",
       " ('', ''),\n",
       " ('', ''),\n",
       " ('Fin.', 'Fin.'),\n",
       " ('', ''),\n",
       " ('O', 'O damas: matronas: mancebos: casados:'),\n",
       " ('notad', 'notad bien la vida que aquestos hizieron'),\n",
       " ('tened', 'tened por espejo su fin qual huuieron'),\n",
       " ('a', 'a otro que amores dad vuestros cuydados'),\n",
       " ('limpiad', 'limpiad ya los ojos los ciegos errados'),\n",
       " ('virtudes', 'virtudes sembrando con casto biuir'),\n",
       " ('a', 'a todo correr deueys de huyr'),\n",
       " ('no', 'no os lance Cupido sus tiros dorados.  [Valencia, 1514]'),\n",
       " ('', ''),\n",
       " ('', ''),\n",
       " ('', ''),\n",
       " ('', ''),\n",
       " ('Todas', 'Todas las cosas ser criadas a manera de contienda o batalla dize'),\n",
       " ('aquel', 'aquel gran sabio Eraclito en este modo. Omnia secundum litem'),\n",
       " ('fiunt.',\n",
       "  'fiunt. Sentencia a mi ver digna de perpetua y recordable memoria:'),\n",
       " ('e', 'e como sea cierto que toda palabra del hombre sciente este'),\n",
       " ('prenada:',\n",
       "  'prenada: desta se puede dezir: que de muy hinchada y llena quiere'),\n",
       " ('rebentar:',\n",
       "  'rebentar: echando de si tan crescidos ramos y hojas: que del menor'),\n",
       " ('pimpollo',\n",
       "  'pimpollo se sacaria harto fruto entre personas discretas.  Pero'),\n",
       " ('como', 'como mi pobre saber no baste a mas de roer sus secas cortezas de'),\n",
       " ('los', 'los dichos de aquellos que por claror de sus ingenios merescieron'),\n",
       " ('ser', 'ser aprouados: con lo poco que de alli alcanzare satisfare al'),\n",
       " ('proposito', 'proposito deste perbreue prologo.  Halle esta sentencia'),\n",
       " ('corroborada',\n",
       "  'corroborada por aquel gran orador e poeta laureado Francisco'),\n",
       " ('Petrarcha',\n",
       "  'Petrarcha diziendo. Sine lite atque offensione nihil genuit natura'),\n",
       " ('parens.',\n",
       "  'parens.  Sin lid e offension ninguna cosa engendro la natura madre'),\n",
       " ('de', 'de todo.  Dize mas adelante. Sic est enim et sic propemodum'),\n",
       " ('vniversa',\n",
       "  'vniversa testantur: rapido stellae obviant firmamento: contraria'),\n",
       " ('inuicem',\n",
       "  'inuicem elementa confligunt. terrae tremunt. maria fluctuant aer'),\n",
       " ('quatitur.',\n",
       "  'quatitur. crepant flammae. bellum immortale venti gerunt. tempora'),\n",
       " ('temporibus',\n",
       "  'temporibus concertant. secum singula: nobiscum omnia.  Que quiere'),\n",
       " ('dezir:', 'dezir: en verdad assi es e assi todas las cosas desto dan'),\n",
       " ('testimonio:', 'testimonio: las estrellas se encuentran en el arrebatado'),\n",
       " ('firmamento',\n",
       "  'firmamento del cielo: los aduersos elementos vnos con otros rompen'),\n",
       " ('pelea.', 'pelea. tremen las tierras: ondean las mares: el ayre se sacude:'),\n",
       " ('suenan',\n",
       "  'suenan las llamas: los vientos entre si traen perpetua guerra: los'),\n",
       " ('tiempos',\n",
       "  'tiempos con tiempos contienden e litigan entre si: vno a vno: e'),\n",
       " ('todos', 'todos contra nosotros.  El verano vemos que nos aquexa con calor'),\n",
       " ('demasiado.',\n",
       "  'demasiado.  El inuierno con frio y aspereza. assi que esto nos'),\n",
       " ('paresce',\n",
       "  'paresce reuolucion temporal: esto con que nos sostenemos: esto con'),\n",
       " ('que', 'que nos criamos e biuimos: si comienza a ensoberuecerse mas de lo'),\n",
       " ('acostumbrado:',\n",
       "  'acostumbrado: no es sino guerra.  E quanto se ha de temer'),\n",
       " ('manifiestase',\n",
       "  'manifiestase por los grandes terremotos: e toruellinos: por los'),\n",
       " ('naufragios:',\n",
       "  'naufragios: y encendios: assi celestiales como terrenales por la'),\n",
       " ('fuerza',\n",
       "  'fuerza de los aguaduchos: por aquel bramar de truenos: por aquel'),\n",
       " ('temeroso',\n",
       "  'temeroso impetu de rayos: aquellos cursos e recursos de las nuues:'),\n",
       " ('de', 'de cuyos abiertos mouimientos: para saber la secreta causa de que'),\n",
       " ('proceden:', 'proceden: no es menor la dissension de los filosofos en las'),\n",
       " ('escuelas:',\n",
       "  'escuelas: que de las ondas en la mar. Pues entre los animales'),\n",
       " ('ningun',\n",
       "  'ningun genero carece de guerra: pesces: fieras: aues: serpientes:'),\n",
       " ('de', 'de lo qual todo: vna especie a otra persigue.  El leon al lobo.'),\n",
       " ('El', 'El lobo la cabra: el perro la liebre: e si no paresciesse conseja'),\n",
       " ('de', 'de tras el fuego yo llegaria mas al cabo esta cuenta.  El elefante'),\n",
       " ('animal',\n",
       "  'animal tan poderoso e fuerte se espanta e huye de la vista de vn'),\n",
       " ('suziuelo',\n",
       "  'suziuelo raton e avn de solo oyrle toma gran temor.  entre las'),\n",
       " ('serpientes', 'serpientes el basilisco crio la natura tan ponzonoso e'),\n",
       " ('conquistador',\n",
       "  'conquistador de todas las otras: que con su siluo las asombra: e'),\n",
       " ('con', 'con su venida las ahuyenta e disparze: con su vista las mata.  La'),\n",
       " ('biuora',\n",
       "  'biuora reptilia: o serpiente enconada al tiempo del concebir: por'),\n",
       " ('la', 'la boca de la hembra metida la cabeza del macho: y ella con el'),\n",
       " ('gran', 'gran dulzor aprietale tanto que le mata e quedando prenada: el'),\n",
       " ('primer', 'primer hijo rompe las yjares de la madre: por do todos salen y'),\n",
       " ('ella', 'ella muerta queda: el quasi como vengador de la paterna muerte.'),\n",
       " ('que', 'que mayor lid: que mayor conquista: ni guerra que engendrar en su'),\n",
       " ('cuerpo', 'cuerpo quien coma sus entranas?  Pues no menos dissensiones'),\n",
       " ('naturales',\n",
       "  'naturales creemos hauer en los pescados: pues es cosa cierta gozar'),\n",
       " ('la', 'la mar de tantas formas de pesces: quantas la tierra: y el ayre'),\n",
       " ('cria', 'cria de aues: e animalias: e muchas mas.  Aristotiles e Plinio'),\n",
       " ('cuentan',\n",
       "  'cuentan marauillas de vn pequeno pece llamado echeneis: quanto sea'),\n",
       " ('apta', 'apta su propriedad para diuersos generos de lides: especialmente'),\n",
       " ('tiene',\n",
       "  'tiene vna: que si allega a vna nao: o carraca la detiene que no se'),\n",
       " ('puede',\n",
       "  'puede menear avnque vaya muy rezio por las aguas. de lo qual haze'),\n",
       " ('Lucano', 'Lucano mencion diziendo. Non puppim retinens Euro tendente'),\n",
       " ('rudentes.',\n",
       "  'rudentes. In mediis echeneis aquis.  No falta alli el pece dicho'),\n",
       " ('echeneis',\n",
       "  'echeneis que detiene las fustas quando el viento Euro estiende las'),\n",
       " ('cuerdas', 'cuerdas en medio de la mar.  O natural contienda digna de'),\n",
       " ('admiracion',\n",
       "  'admiracion poder mas vn pequeno pece que vn gran nauio con toda la'),\n",
       " ('fuerza', 'fuerza de los vientos.  Pues si discurrimos por las aues: e por'),\n",
       " ('sus', 'sus menudas enemistades bien affirmaremos ser todas las cosas'),\n",
       " ('criadas', 'criadas a manera de contienda las mas biuen de rapina: como'),\n",
       " ('halcones',\n",
       "  'halcones / e aguilas / e gauilanes hasta los grosseros milanos'),\n",
       " ('insultan', 'insultan dentro en nuestras moradas los domesticos pollos: e'),\n",
       " ('debaxo', 'debaxo las alas de sus madres los vienen a cazar. De vna ave'),\n",
       " ('llamada',\n",
       "  'llamada Rocho que nace en el Indico mar de Oriente se dize ser de'),\n",
       " ('grandeza',\n",
       "  'grandeza jamas oyda e que lleva sobre su pico fasta las nuues no'),\n",
       " ('solo',\n",
       "  'solo vn hombre: o diez: pero vn nauio cargado de todas sus xarcias'),\n",
       " ('e', 'e gente.  E como los miseros navegantes esten assi suspensos en el'),\n",
       " ('ayre', 'ayre con el meneo de su buelo caen: e reciben crueles muertes.'),\n",
       " ('pues',\n",
       "  'pues que diremos entre los hombres e a quien todo lo sobredicho es'),\n",
       " ('subjeto:', 'subjeto: quien explanara sus guerras / sus enemistades / sus'),\n",
       " ('embidias',\n",
       "  'embidias / sus aceleramientos e mouimientos e descontentamientos:'),\n",
       " ('aquel',\n",
       "  'aquel mudar de trajes: aquel derribar e renouar edificios: e otros'),\n",
       " ('muchos', 'muchos affectos diuersos e variedades que desta nuestra flaca'),\n",
       " ('humanidad',\n",
       "  'humanidad nos prouienen: e pues es antigua querella e visitada de'),\n",
       " ('largos', 'largos tiempos no quiero marauillarme si esta presente obra ha'),\n",
       " ('seydo', 'seydo instrumento de lid: o contienda a sus lectores: para'),\n",
       " ('ponerlos',\n",
       "  'ponerlos en differencias: dando cada vno sentencia sobre ella a'),\n",
       " ('sabor',\n",
       "  'sabor de su voluntad.  Unos dezian que era prolixa / otros breue /'),\n",
       " ('otros',\n",
       "  'otros agradable / otros escura. de manera que cortarla a medida de'),\n",
       " ('tantas', 'tantas y tan differentes condiciones a solo dios pertenesce.'),\n",
       " ('Mayormente',\n",
       "  'Mayormente pues ella con todas las otras cosas que al mundo son'),\n",
       " ('van', 'van debaxo de la vandera desta notable sentencia que avn la mesma'),\n",
       " ('vida', 'vida de los hombres si bien lo miramos desde la primera hedad'),\n",
       " ('hasta', 'hasta que blanquean las canas es batalla: los ninos con los'),\n",
       " ('juegos:',\n",
       "  'juegos: los mozos con las letras: los mancebos con los deleytes:'),\n",
       " ('los', 'los viejos con mill especies de enfermedades pelean: y estos'),\n",
       " ('papeles',\n",
       "  'papeles con todas las edades.  La primera los borra e rompe.  La'),\n",
       " ('segunda', 'segunda no los sabe bien leer.  La tercera que es la alegre'),\n",
       " ('juuentud',\n",
       "  'juuentud e mancebia discorda: vnos les roen los huessos que no'),\n",
       " ('tienen',\n",
       "  'tienen virtud: que es la hystoria toda junta no aprouechandose de'),\n",
       " ('las', 'las particularidades haziendola cuenta de camino. otros pican los'),\n",
       " ('donayres',\n",
       "  'donayres y refranes comunes: loandolos con toda atencion: dexando'),\n",
       " ('passar', 'passar por alto lo que haze mas al caso e vtilidad suya.  Pero'),\n",
       " ('aquellos',\n",
       "  'aquellos para cuyo verdadero plazer es todo: desechan el cuento de'),\n",
       " ('la', 'la hystoria para contar: coligen la suma para su prouecho: rien lo'),\n",
       " ('donoso:', 'donoso: las sentencias e dichos de philosophos guardan en su'),\n",
       " ('memoria', 'memoria para trasponer en lugares conuenibles a sus autos e'),\n",
       " ('propositos:',\n",
       "  'propositos: assi que quando diez personas se juntaren a oyr esta'),\n",
       " ('Comedia',\n",
       "  'Comedia en quien quepa esta differencia de condiciones como suele'),\n",
       " ('acaescer:',\n",
       "  'acaescer: quien negara que aya contienda en cosa que de tantas'),\n",
       " ('maneras',\n",
       "  'maneras se entienda: que avn los impressores han dado sus punturas'),\n",
       " ('poniendo',\n",
       "  'poniendo rubricas: o sumarios al principio de cada auto narrando'),\n",
       " ('en', 'en breue lo que dentro contenia: vna cosa bien escusada segun lo'),\n",
       " ('que', 'que los antiguos scriptores vsaron.  Otros han litigado sobre el'),\n",
       " ('nombre:',\n",
       "  'nombre: diziendo que no se auia de llamar Comedia: pues acabaua en'),\n",
       " ('tristeza:',\n",
       "  'tristeza: sino que se llamasse Tragedia.  El primer autor quiso'),\n",
       " ('darle',\n",
       "  'darle denominacion del principio que fue plazer e llamola Comedia.'),\n",
       " ('yo', 'yo viendo estas discordias entre estos estremos parti agora por'),\n",
       " ('medio', 'medio la porfia: e llamela Tragicomedia.  Assi que viendo estas'),\n",
       " ('conquistas:',\n",
       "  'conquistas: estos dissonos e varios juyzios: mire a donde la mayor'),\n",
       " ('parte',\n",
       "  'parte acostaua e halle que querian que se alargasse en el processo'),\n",
       " ('de', 'de su deleyte destos amantes. sobre lo qual fuy muy importunado de'),\n",
       " ('manera',\n",
       "  'manera que acorde avnque contra mi voluntad meter segunda vez la'),\n",
       " ('pluma', 'pluma en tan estrana lauor e tan agena de mi facultad: hurtando'),\n",
       " ('algunos',\n",
       "  'algunos ratos a mi principal estudio con otras horas destinadas'),\n",
       " ('para', 'para recreacion: puesto que no han de faltar nueuos detractores a'),\n",
       " ('la', 'la nueua adicion.\"'),\n",
       " ('', ''),\n",
       " ('', ''),\n",
       " ('', ''),\n",
       " ('SIGUESE', 'SIGUESE LA COMEDIA \"O TRAGICOMEDIA\"'),\n",
       " ('DE', 'DE CALISTO Y MELIBEA: COMPUESTA EN REPREHENSION DE LOS LOCOS'),\n",
       " ('ENAMORADOS',\n",
       "  'ENAMORADOS QUE VENCIDOS EN SU DESORDENADO APETITO A SUS AMIGAS'),\n",
       " ('LLAMAN', 'LLAMAN E DIZEN SER SU DIOS.  ASSI MISMO FECHA EN AUISO DE LOS'),\n",
       " ('ENGANOS', 'ENGANOS DE LAS ALCAHUETAS E MALOS Y LISONJEROS SIRUIENTES.'),\n",
       " ('', ''),\n",
       " ('ARGUMENTO.', 'ARGUMENTO.'),\n",
       " ('', ''),\n",
       " ('Calisto', 'Calisto fue de noble linaje: de claro ingenio: de gentil'),\n",
       " ('disposicion:',\n",
       "  'disposicion: de linda crianza: dotado de muchas gracias, de estado'),\n",
       " ('mediano:', 'mediano: fue preso en el amor de Melibea, muger moza, muy'),\n",
       " ('generosa,',\n",
       "  'generosa, de alta y serenissima sangre: sublimada en prospero'),\n",
       " ('estado,',\n",
       "  'estado, vna sola heredera a su padre Pleberio: y de su madre Alisa'),\n",
       " ('muy', 'muy amada: por solicitud del pungido Calisto vencido el casto'),\n",
       " ('proposito',\n",
       "  'proposito della: entreueniendo Celestina mala y astuta muger con'),\n",
       " ('dos', 'dos seruientes del vencido Calisto enganados, e por esta tornados'),\n",
       " ('desleales:', 'desleales: presa su fidelidad con anzuelo de cobdicia y de'),\n",
       " ('deleyte,',\n",
       "  'deleyte, vinieron los amantes e los que les ministraron en amargo'),\n",
       " ('e', 'e desastrado fin.  Para comienzo de lo qual dispuso el aduersa'),\n",
       " ('fortuna',\n",
       "  'fortuna lugar oportuno donde a la presencia de Calisto se presento'),\n",
       " ('la', 'la deseada Melibea.'),\n",
       " ('', ''),\n",
       " ('', ''),\n",
       " ('ARGUMENTO', 'ARGUMENTO'),\n",
       " ('DEL', 'DEL PRIMER AUTO DESTA COMEDIA.'),\n",
       " ('', ''),\n",
       " ('Entrando', 'Entrando Calisto vna huerta empos de un falcon suyo hallo y a'),\n",
       " ('Melibea', 'Melibea de cuyo amor preso comenzole de hablar: de la qual'),\n",
       " ('rigorosamente',\n",
       "  'rigorosamente despedido: fue para su casa muy sangustiado.  hablo'),\n",
       " ('con', 'con vn criado suyo llamado Sempronio. el qual despues de muchas'),\n",
       " ('razones',\n",
       "  'razones le enderezo a vna vieja llamada Celestina: en cuya casa'),\n",
       " ('tenia', 'tenia el mesmo criado vna enamorada llamada Elicia: la qual'),\n",
       " ('viniendo',\n",
       "  'viniendo Sempronio a casa de Celestina con el negocio de su amo'),\n",
       " ('tenia', 'tenia a otro consigo llamado Crito: al qual escondieron.'),\n",
       " ('Entretanto',\n",
       "  'Entretanto que Sempronio esta negociando con Celestina: Calisto'),\n",
       " ('esta', 'esta razonando con otro criado suyo por nombre Parmeno: el qual'),\n",
       " ('razonamiento',\n",
       "  'razonamiento dura fasta que llega Sempronio e Celestina a casa de'),\n",
       " ('Calisto.',\n",
       "  'Calisto.  Parmeno fue conoscido de Celestina: la qual mucho le'),\n",
       " ('dize',\n",
       "  'dize de los fechos e conoscimiento de su madre induziendole a amor'),\n",
       " ('e', 'e concordia de Sempronio.'),\n",
       " ('', ''),\n",
       " ('CALISTO.', 'CALISTO.  MELIBEA.  SEMPRONIO.  CELESTINA. ELICIA.  CRITO.'),\n",
       " ('PARMENO.', 'PARMENO.'),\n",
       " ('', ''),\n",
       " ('', ''),\n",
       " ('CALISTO.--En', 'CALISTO.--En esto veo, Melibea, la grandeza de dios.'),\n",
       " ('MELIBEA.--en', 'MELIBEA.--en que, Calisto?'),\n",
       " ('CAL.--en', 'CAL.--en dar poder a natura que de tan perfeta hermosura te'),\n",
       " ('dotasse:',\n",
       "  'dotasse: e fazer a mi inmerito tanta merced que verte alcanzasse:'),\n",
       " ('e', 'e en tan conueniente lugar que mi secreto dolor manifestarte'),\n",
       " ('pudiesse.',\n",
       "  'pudiesse. sin dubda encomparablemente es mayor tal galardon que el'),\n",
       " ('seruicio:',\n",
       "  'seruicio: sacrificio: deuocion e obras pias que por este lugar'),\n",
       " ('alcanzar',\n",
       "  'alcanzar tengo yo a dios ofrescido.  Ni otro poder mi voluntad'),\n",
       " ('humana',\n",
       "  'humana puede conplir. quien vido en esta vida cuerpo glorificado'),\n",
       " ('de', 'de ningun hombre como agora el mio?  Por cierto los gloriosos'),\n",
       " ('sanctos',\n",
       "  'sanctos que se deleytan en la vision diuina no gozan mas que yo'),\n",
       " ('agora', 'agora en el acatamiento tuyo. Mas, o triste, que en esto'),\n",
       " ('deferimos:',\n",
       "  'deferimos: que ellos puramente se glorifican sin temor de caer de'),\n",
       " ('tal', 'tal bienauenturanza: e yo misto me alegro con recelo del esquiuo'),\n",
       " ('tormento', 'tormento que tu absencia me ha de causar.'),\n",
       " ('MELIB.--por', 'MELIB.--por grand premio tienes esto, Calisto?'),\n",
       " ('CAL.--tengolo',\n",
       "  'CAL.--tengolo por tanto en verdad, que si dios me diesse en el'),\n",
       " ('cielo', 'cielo la silla sobre sus sanctos, no lo ternia por tanta'),\n",
       " ('felicidad.', 'felicidad.'),\n",
       " ('MELIB.--pues',\n",
       "  'MELIB.--pues avn mas ygual galardon te dare yo, si perseueras.'),\n",
       " ('CAL.--o', 'CAL.--o bienauenturadas orejas mias, que indignamente tan gran'),\n",
       " ('palabra', 'palabra haueys oydo.'),\n",
       " ('MELIB.--mas',\n",
       "  'MELIB.--mas desauenturadas de que me acabes de oyr: porque la paga'),\n",
       " ('sera', 'sera tan fiera qual la merece tu loco atreuimiento; e el intento'),\n",
       " ('de', 'de tus palabras, Calisto, ha seydo: de ingenio de tal hombre como'),\n",
       " ('tu,', 'tu, hauer de salir para se perder en la virtud de tal muger como'),\n",
       " ('yo.', 'yo. Vete, vete de ay, torpe: que no puede mi paciencia tollerar'),\n",
       " ('que', 'que aya subido en corazon humano comigo el ylicito amor comunicar'),\n",
       " ('su', 'su deleyte.'),\n",
       " ('CAL.--yre',\n",
       "  'CAL.--yre como aquel contra quien solamente la aduersa fortuna'),\n",
       " ('pone', 'pone su estudio con odio cruel. Sempronio: Sempronio: Sempronio:'),\n",
       " ('donde', 'donde esta este maldito?'),\n",
       " ('SEMPRONIO.--aqui',\n",
       "  'SEMPRONIO.--aqui estoy, senor, curando destos cauallos.'),\n",
       " ('CAL.--pues', 'CAL.--pues como sales de la sala?'),\n",
       " ('SEMP.--abatiose',\n",
       "  'SEMP.--abatiose el girifalte, e vinele enderezar en el alcandara.'),\n",
       " ('CAL.--assi',\n",
       "  'CAL.--assi los diablos te ganen: assi por infortunio arrebatado'),\n",
       " ('perezcas',\n",
       "  'perezcas / o perpetuo intollerable tormento consigas: el qual en'),\n",
       " ('grado', 'grado incomparable a la penosa e desastrada muerte que espero'),\n",
       " ('traspassa.',\n",
       "  'traspassa.  Anda, anda, maluado, abre la camara e endereza la'),\n",
       " ('cama.', 'cama.'),\n",
       " ('SEMP.--senor,', 'SEMP.--senor, luego.  hecho es.'),\n",
       " ('CAL.--cierra',\n",
       "  'CAL.--cierra la ventana e dexa la tiniebla acompanar al triste, e'),\n",
       " ('al', 'al desdichado la ceguedad: mis pensamientos tristes no son dignos'),\n",
       " ('de', 'de luz.  O bienauenturada muerte aquella que deseada a los'),\n",
       " ('afligidos',\n",
       "  'afligidos viene.  O si viniessedes agora, Eras e Crato, medicos,'),\n",
       " ('sentiriades',\n",
       "  'sentiriades mi mal.  O piedad de silencio, inspira en el Pleberico'),\n",
       " ('corazon:', 'corazon: porque sin esperanza de salud no embie el espiritu'),\n",
       " ('perdido', 'perdido con el desastrado Piramo e de la desdichada Tisbe.'),\n",
       " ('SEMP.--que', 'SEMP.--que cosa es?'),\n",
       " ('CAL.--vete',\n",
       "  'CAL.--vete de ay, no me fables: sino quiza ante del tiempo de mi'),\n",
       " ('rabiosa', 'rabiosa muerte mis manos causaran tu arrebatado fin.'),\n",
       " ('SEMP.--yre,', 'SEMP.--yre, pues solo quieres padecer tu mal.'),\n",
       " ('CAL.--ve', 'CAL.--ve con el diablo.'),\n",
       " ('SEMP.--no',\n",
       "  'SEMP.--no creo, segun pienso, yr comigo el que contigo queda.  O'),\n",
       " ('desauentura.',\n",
       "  'desauentura.  O subito mal: qual fue tan contrario acontescimiento'),\n",
       " ('que', 'que assi tan presto robo el alegria deste hombre: e lo que peor'),\n",
       " ('es,', 'es, junto con ella el seso?  dexarle he solo?  o entrare alla?  Si'),\n",
       " ('le', 'le dexo, matarse ha.  si entro alla, matarme ha.  Quedese, no me'),\n",
       " ('curo:',\n",
       "  'curo: mas vale que muera aquel a quien es enojosa la vida: que no'),\n",
       " ('yo,', 'yo, que huelgo con ella.  Avnque por al no deseasse viuir: sino'),\n",
       " ('por', 'por ver a mi Elicia me deuria guardar de peligros.  pero si se'),\n",
       " ('mata', 'mata sin otro testigo: yo quedo obligado a dar cuenta de su vida.'),\n",
       " ('Quiero', 'Quiero entrar.  Mas puesto que entre, no quiere consolacion ni'),\n",
       " ('consejo.', 'consejo.  asaz es senal mortal no querer sanar.  Con todo,'),\n",
       " ('quierole',\n",
       "  'quierole dexar vn poco: desbraue. madure.  que oydo he dezir que'),\n",
       " ('es', 'es peligro abrir o apremiar las postemas duras: porque mas se'),\n",
       " ('enconan.',\n",
       "  'enconan.  este vn poco.  dexemos llorar al que dolor tiene: que'),\n",
       " ('las', 'las lagrimas e sospiros mucho desenconan el corazon dolorido.  E'),\n",
       " ('avn', 'avn si delante me tiene, mas comigo se encendera.  que el sol mas'),\n",
       " ('arde', 'arde donde puede reuerberar. la vista a quien objecto no se'),\n",
       " ('antepone,', 'antepone, cansa: e quando aquel es cerca, aguzase: por esso'),\n",
       " ('quierome',\n",
       "  'quierome sofrir vn poco: si entretanto se matare: muera.  quiza'),\n",
       " ('con', 'con algo me quedare que otro no lo sabe: con que mude el pelo'),\n",
       " ('malo.', 'malo.  Avnque malo es esperar salud en muerte agena.  Y quiza me'),\n",
       " ('engana',\n",
       "  'engana el diablo: e si muere matarme han: e yran alla la soga e el'),\n",
       " ('calderon.',\n",
       "  'calderon.  Por otra parte dizen los sabios que es grande descanso'),\n",
       " ('a', 'a los afligidos tener con quien puedan sus cuytas llorar.  Y que'),\n",
       " ('la', 'la llaga interior mas empece.  Pues en estos estremos en que estoy'),\n",
       " ('perplexo:',\n",
       "  'perplexo: lo mas sano es entrar e sofrirle e consolarle: porque si'),\n",
       " ('possible',\n",
       "  'possible es sanar sin arte ni aparejo: mas ligero es guarescer por'),\n",
       " ('arte:', 'arte: e por cura.'),\n",
       " ('CAL.--Sempronio.', 'CAL.--Sempronio.'),\n",
       " ('SEMP.--senor.', 'SEMP.--senor.'),\n",
       " ('CAL.--dame', 'CAL.--dame aca el laud.'),\n",
       " ('SEMP.--senor,', 'SEMP.--senor, vesle aqui.'),\n",
       " ('CAL.--qual', 'CAL.--qual dolor puede ser tal:'),\n",
       " ('que', 'que se yguale con mi mal?'),\n",
       " ('SEMP.--destemplado', 'SEMP.--destemplado esta esse laud.'),\n",
       " ('CAL.--como',\n",
       "  'CAL.--como templara el destemplado?  como sentira el armonia aquel'),\n",
       " ('que', 'que consigo esta tan discorde?  aquel a quien la voluntad a la'),\n",
       " ('razon', 'razon no obedece?  quien tiene dentro del pecho aguijones, paz:'),\n",
       " ('guerra:', 'guerra: tregua: amor: enemistad: injurias, pecados: sospechas,'),\n",
       " ('todo', 'todo a vna causa?  Pero tane e canta la mas triste cancion que'),\n",
       " ('sepas.', 'sepas.'),\n",
       " ('SEMP.--mira', 'SEMP.--mira Nero de Tarpeya'),\n",
       " ('a', 'a Roma como se ardia:'),\n",
       " ('gritos', 'gritos dan ninos e viejos:'),\n",
       " ('e', 'e el de nada se dolia.'),\n",
       " ('CAL.--mayor',\n",
       "  'CAL.--mayor es mi fuego: e menor la piedad de quien yo agora digo.'),\n",
       " ('SEMP.--no', 'SEMP.--no me engano yo, que loco esta este mi amo.'),\n",
       " ('CAL.--que', 'CAL.--que estas murmurando, Sempronio?'),\n",
       " ('SEMP.--no', 'SEMP.--no digo nada.'),\n",
       " ('CAL.--di', 'CAL.--di lo que dizes, no temas.'),\n",
       " ('SEMP.--digo',\n",
       "  'SEMP.--digo que como puede ser mayor el fuego que atormenta vn'),\n",
       " ('viuo,', 'viuo, que el que quemo tal cibdad e tanta multitud de gente?'),\n",
       " ('CAL.--como?',\n",
       "  'CAL.--como?  yo te lo dire: mayor es la llama que dura ochenta'),\n",
       " ('anos',\n",
       "  'anos que la que en vn dia passa: e mayor la que mata vna anima que'),\n",
       " ('la', 'la que quema cient mill cuerpos.  Como de la aparencia a la'),\n",
       " ('existencia:',\n",
       "  'existencia: como de lo viuo a lo pintado: como de la sombra a lo'),\n",
       " ('real:', 'real: tanta diferencia ay del fuego que dizes al que me quema.'),\n",
       " ('Por', 'Por cierto si el del purgatorio es tal: mas querria que mi spiritu'),\n",
       " ('fuesse',\n",
       "  'fuesse con los de los brutos animales: que por medio de aquel yr a'),\n",
       " ('la', 'la gloria de los sanctos.'),\n",
       " ('SEMP.--algo',\n",
       "  'SEMP.--algo es lo que digo.  a mas ha de yr este hecho: no basta'),\n",
       " ('loco,', 'loco, sino ereje.'),\n",
       " ('CAL.--no', 'CAL.--no te digo que fables alto quando fablares?  Que dizes?'),\n",
       " ('SEMP.--digo',\n",
       "  'SEMP.--digo que nunca dios quiera tal: que es especie de heregia'),\n",
       " ('lo', 'lo que agora dixiste.'),\n",
       " ('CAL.--porque?', 'CAL.--porque?'),\n",
       " ('SEMP.--porque',\n",
       "  'SEMP.--porque lo que dizes contradize la cristiana religion.'),\n",
       " ('CAL.--que', 'CAL.--que a mi?'),\n",
       " ('SEMP.--tu', 'SEMP.--tu no eres cristiano?'),\n",
       " ('CAL.--yo?',\n",
       "  'CAL.--yo?  Melibeo soy.  e a Melibea adoro e en Melibea creo: e a'),\n",
       " ('Melibea', 'Melibea amo.'),\n",
       " ('SEMP.--tu',\n",
       "  'SEMP.--tu te lo diras.  como Melibea es grande: no cabe en el'),\n",
       " ('corazon',\n",
       "  'corazon de mi amo: que por la boca le sale a borbollones.  No es'),\n",
       " ('mas', 'mas menester: bien se de que pie coxqueas: yo te sanare.'),\n",
       " ('CAL.--increyble', 'CAL.--increyble cosa prometes.'),\n",
       " ('SEMP.--antes',\n",
       "  'SEMP.--antes facil.  Que el comienzo de la salud es conoscer'),\n",
       " ('hombre', 'hombre la dolencia del enfermo.'),\n",
       " ('CAL.--qual',\n",
       "  'CAL.--qual consejo puede regir lo que en si no tiene orden ni'),\n",
       " ('consejo?', 'consejo?'),\n",
       " ('SEMP.--ha',\n",
       "  'SEMP.--ha ha ha.  esto es el fuego de Calisto?  Estas son sus'),\n",
       " ('congoxas?',\n",
       "  'congoxas? Como si solamente el amor contra el asestara sus tiros.'),\n",
       " ('O', 'O soberano dios, quan altos son tus misterios.  Quanta premia'),\n",
       " ('pusiste',\n",
       "  'pusiste en el amor: que es necessaria turbacion en el amante.  Su'),\n",
       " ('limite',\n",
       "  'limite posiste por marauilla: paresce al amante que atras queda.'),\n",
       " ('todos',\n",
       "  'todos passan, todos rompen: pungidos e esgarrochados como ligeros'),\n",
       " ('toros:',\n",
       "  'toros: sin freno saltan por las barreras.  Mandaste al hombre por'),\n",
       " ('la', 'la muger dexar el padre e la madre: agora no solo aquello, mas a'),\n",
       " ('ti', 'ti e a tu ley desamparan, como agora Calisto, del qual no me'),\n",
       " ('marauillo:',\n",
       "  'marauillo: pues los sabios, los santos, los profetas por el te'),\n",
       " ('oluidaron.', 'oluidaron.'),\n",
       " ('CAL.--Sempronio.', 'CAL.--Sempronio.'),\n",
       " ('SEMP.--senor.', 'SEMP.--senor.'),\n",
       " ('CAL.--no', 'CAL.--no me dexes.'),\n",
       " ('SEMP.--de', 'SEMP.--de otro temple esta esta gayta.'),\n",
       " ('CAL.--que', 'CAL.--que te paresce de mi mal?'),\n",
       " ('SEMP.--que', 'SEMP.--que amas a Melibea.'),\n",
       " ('CAL.--e', 'CAL.--e no otra cosa?'),\n",
       " ('SEMP.--harto',\n",
       "  'SEMP.--harto mal es tener la voluntad en vn solo lugar catiua.'),\n",
       " ('CAL.--poco', 'CAL.--poco sabes de firmeza.'),\n",
       " ('SEMP.--la',\n",
       "  'SEMP.--la perseuerancia en el mal no es constancia mas dureza / o'),\n",
       " ('pertinacia',\n",
       "  'pertinacia la llaman en mi tierra.  Vosotros los filosofos de'),\n",
       " ('Cupido', 'Cupido llamalda como quisierdes.'),\n",
       " ('CAL.--torpe',\n",
       "  'CAL.--torpe cosa es mentir \"el\" que ensena a otro; pues que tu te'),\n",
       " ('precias', 'precias de loar a tu amiga Elicia.'),\n",
       " ('SEMP.--haz', 'SEMP.--haz tu lo que bien digo: y no lo que mal hago.'),\n",
       " ('CAL.--que', 'CAL.--que me reprobas?'),\n",
       " ('SEMP.--que',\n",
       "  'SEMP.--que sometes la dignidad del hombre a la imperfecion de la'),\n",
       " ('flaca', 'flaca muger.'),\n",
       " ('CAL.--muger?', 'CAL.--muger?  o grossero: dios, dios!'),\n",
       " ...]"
      ]
     },
     "execution_count": 10,
     "metadata": {},
     "output_type": "execute_result"
    }
   ],
   "source": [
    "pair_rdd_celestina.collect()"
   ]
  },
  {
   "cell_type": "markdown",
   "metadata": {},
   "source": [
    "# keyBy() "
   ]
  },
  {
   "cell_type": "code",
   "execution_count": 11,
   "metadata": {
    "collapsed": true
   },
   "outputs": [],
   "source": [
    "rdd = sc.parallelize(range(5))"
   ]
  },
  {
   "cell_type": "code",
   "execution_count": 12,
   "metadata": {
    "collapsed": false
   },
   "outputs": [
    {
     "data": {
      "text/plain": [
       "[0, 1, 2, 3, 4]"
      ]
     },
     "execution_count": 12,
     "metadata": {},
     "output_type": "execute_result"
    }
   ],
   "source": [
    "rdd.collect()"
   ]
  },
  {
   "cell_type": "code",
   "execution_count": 13,
   "metadata": {
    "collapsed": true
   },
   "outputs": [],
   "source": [
    "pair_rdd = rdd.keyBy(lambda x: x+1)"
   ]
  },
  {
   "cell_type": "code",
   "execution_count": 14,
   "metadata": {
    "collapsed": false
   },
   "outputs": [
    {
     "data": {
      "text/plain": [
       "[(1, 0), (2, 1), (3, 2), (4, 3), (5, 4)]"
      ]
     },
     "execution_count": 14,
     "metadata": {},
     "output_type": "execute_result"
    }
   ],
   "source": [
    "pair_rdd.collect()"
   ]
  },
  {
   "cell_type": "markdown",
   "metadata": {},
   "source": [
    "# zipWithIndex()"
   ]
  },
  {
   "cell_type": "code",
   "execution_count": 15,
   "metadata": {
    "collapsed": true
   },
   "outputs": [],
   "source": [
    "rdd = sc.parallelize(['a', 'b', 'c', 'd', 'e'], 3)"
   ]
  },
  {
   "cell_type": "code",
   "execution_count": 16,
   "metadata": {
    "collapsed": true
   },
   "outputs": [],
   "source": [
    "pair_rdd = rdd.zipWithIndex()"
   ]
  },
  {
   "cell_type": "code",
   "execution_count": 17,
   "metadata": {
    "collapsed": false
   },
   "outputs": [
    {
     "data": {
      "text/plain": [
       "[('a', 0), ('b', 1), ('c', 2), ('d', 3), ('e', 4)]"
      ]
     },
     "execution_count": 17,
     "metadata": {},
     "output_type": "execute_result"
    }
   ],
   "source": [
    "pair_rdd.collect()"
   ]
  },
  {
   "cell_type": "markdown",
   "metadata": {},
   "source": [
    "# zipWithUniqueId"
   ]
  },
  {
   "cell_type": "code",
   "execution_count": 18,
   "metadata": {
    "collapsed": false
   },
   "outputs": [
    {
     "data": {
      "text/plain": [
       "[[(('a', 0), 0)],\n",
       " [(('b', 1), 1), (('c', 2), 4)],\n",
       " [(('d', 3), 2), (('e', 4), 5)]]"
      ]
     },
     "execution_count": 18,
     "metadata": {},
     "output_type": "execute_result"
    }
   ],
   "source": [
    "pair_rdd.zipWithUniqueId().glom().collect()"
   ]
  },
  {
   "cell_type": "code",
   "execution_count": 19,
   "metadata": {
    "collapsed": false
   },
   "outputs": [
    {
     "data": {
      "text/plain": [
       "[('a', 0), ('b', 1), ('c', 4), ('d', 2), ('e', 5)]"
      ]
     },
     "execution_count": 19,
     "metadata": {},
     "output_type": "execute_result"
    }
   ],
   "source": [
    "rdd.zipWithUniqueId().collect()"
   ]
  },
  {
   "cell_type": "markdown",
   "metadata": {},
   "source": [
    "# zip() con dos rdd"
   ]
  },
  {
   "cell_type": "code",
   "execution_count": 20,
   "metadata": {
    "collapsed": true
   },
   "outputs": [],
   "source": [
    "rdd1 = sc.parallelize(range(5), 3)"
   ]
  },
  {
   "cell_type": "code",
   "execution_count": 21,
   "metadata": {
    "collapsed": true
   },
   "outputs": [],
   "source": [
    "rdd2 = sc.parallelize(range(100,105), 3)"
   ]
  },
  {
   "cell_type": "code",
   "execution_count": 22,
   "metadata": {
    "collapsed": false
   },
   "outputs": [
    {
     "data": {
      "text/plain": [
       "[[0], [1, 2], [3, 4]]"
      ]
     },
     "execution_count": 22,
     "metadata": {},
     "output_type": "execute_result"
    }
   ],
   "source": [
    "rdd1.glom().collect()"
   ]
  },
  {
   "cell_type": "code",
   "execution_count": 23,
   "metadata": {
    "collapsed": false
   },
   "outputs": [
    {
     "data": {
      "text/plain": [
       "[[100], [101, 102], [103, 104]]"
      ]
     },
     "execution_count": 23,
     "metadata": {},
     "output_type": "execute_result"
    }
   ],
   "source": [
    "rdd2.glom().collect()"
   ]
  },
  {
   "cell_type": "code",
   "execution_count": 24,
   "metadata": {
    "collapsed": true
   },
   "outputs": [],
   "source": [
    "pair_rdd = rdd1.zip(rdd2)"
   ]
  },
  {
   "cell_type": "code",
   "execution_count": 25,
   "metadata": {
    "collapsed": false
   },
   "outputs": [
    {
     "data": {
      "text/plain": [
       "[(0, 100), (1, 101), (2, 102), (3, 103), (4, 104)]"
      ]
     },
     "execution_count": 25,
     "metadata": {},
     "output_type": "execute_result"
    }
   ],
   "source": [
    "pair_rdd.collect()"
   ]
  },
  {
   "cell_type": "code",
   "execution_count": 26,
   "metadata": {
    "collapsed": false
   },
   "outputs": [
    {
     "data": {
      "text/plain": [
       "[[(0, 100)], [(1, 101), (2, 102)], [(3, 103), (4, 104)]]"
      ]
     },
     "execution_count": 26,
     "metadata": {},
     "output_type": "execute_result"
    }
   ],
   "source": [
    "pair_rdd.glom().collect()"
   ]
  },
  {
   "cell_type": "markdown",
   "metadata": {},
   "source": [
    "# Transformaciones de agregación para pair RDDs"
   ]
  },
  {
   "cell_type": "markdown",
   "metadata": {},
   "source": [
    "# reduceByKey y foldByKey() - son transformaciones y no acciones"
   ]
  },
  {
   "cell_type": "code",
   "execution_count": 27,
   "metadata": {
    "collapsed": false
   },
   "outputs": [
    {
     "data": {
      "text/plain": [
       "[('a', 1), ('b', 2), ('c', 3), ('a', 4), ('b', 5), ('c', 6), ('c', 7)]"
      ]
     },
     "execution_count": 27,
     "metadata": {},
     "output_type": "execute_result"
    }
   ],
   "source": [
    "tupla = [('a', 1), ('b', 2), ('c', 3), ('a', 4), ('b', 5), ('c', 6), ('c', 7)]\n",
    "tupla"
   ]
  },
  {
   "cell_type": "code",
   "execution_count": 28,
   "metadata": {
    "collapsed": true
   },
   "outputs": [],
   "source": [
    "pair_rdd = sc.parallelize(tupla)"
   ]
  },
  {
   "cell_type": "code",
   "execution_count": 29,
   "metadata": {
    "collapsed": false
   },
   "outputs": [
    {
     "data": {
      "text/plain": [
       "ParallelCollectionRDD[21] at parallelize at PythonRDD.scala:195"
      ]
     },
     "execution_count": 29,
     "metadata": {},
     "output_type": "execute_result"
    }
   ],
   "source": [
    "pair_rdd"
   ]
  },
  {
   "cell_type": "code",
   "execution_count": 30,
   "metadata": {
    "collapsed": false
   },
   "outputs": [
    {
     "data": {
      "text/plain": [
       "[('a', 1), ('b', 2), ('c', 3), ('a', 4), ('b', 5), ('c', 6), ('c', 7)]"
      ]
     },
     "execution_count": 30,
     "metadata": {},
     "output_type": "execute_result"
    }
   ],
   "source": [
    "pair_rdd.collect()"
   ]
  },
  {
   "cell_type": "code",
   "execution_count": 31,
   "metadata": {
    "collapsed": true
   },
   "outputs": [],
   "source": [
    "from operator import add, sub"
   ]
  },
  {
   "cell_type": "code",
   "execution_count": 32,
   "metadata": {
    "collapsed": true
   },
   "outputs": [],
   "source": [
    "rdd_reduce = pair_rdd.reduceByKey(add)"
   ]
  },
  {
   "cell_type": "code",
   "execution_count": 33,
   "metadata": {
    "collapsed": false
   },
   "outputs": [
    {
     "data": {
      "text/plain": [
       "[('a', 5), ('b', 7), ('c', 16)]"
      ]
     },
     "execution_count": 33,
     "metadata": {},
     "output_type": "execute_result"
    }
   ],
   "source": [
    "rdd_reduce.collect()"
   ]
  },
  {
   "cell_type": "code",
   "execution_count": 34,
   "metadata": {
    "collapsed": false
   },
   "outputs": [],
   "source": [
    "rdd_fold = pair_rdd.foldByKey(0, add).collect()"
   ]
  },
  {
   "cell_type": "code",
   "execution_count": 35,
   "metadata": {
    "collapsed": false
   },
   "outputs": [
    {
     "data": {
      "text/plain": [
       "[('a', 5), ('b', 7), ('c', 16)]"
      ]
     },
     "execution_count": 35,
     "metadata": {},
     "output_type": "execute_result"
    }
   ],
   "source": [
    "rdd_fold"
   ]
  },
  {
   "cell_type": "code",
   "execution_count": 36,
   "metadata": {
    "collapsed": false
   },
   "outputs": [
    {
     "data": {
      "text/plain": [
       "[('a', 1), ('b', 2), ('c', 3), ('a', 4), ('b', 5), ('c', 6), ('c', 7)]"
      ]
     },
     "execution_count": 36,
     "metadata": {},
     "output_type": "execute_result"
    }
   ],
   "source": [
    "pair_rdd.collect()"
   ]
  },
  {
   "cell_type": "markdown",
   "metadata": {},
   "source": [
    "# groupByKey() agrupa los valores para cada clave()"
   ]
  },
  {
   "cell_type": "code",
   "execution_count": 37,
   "metadata": {
    "collapsed": true
   },
   "outputs": [],
   "source": [
    "rdd_group = pair_rdd.groupByKey()"
   ]
  },
  {
   "cell_type": "code",
   "execution_count": 38,
   "metadata": {
    "collapsed": false
   },
   "outputs": [
    {
     "data": {
      "text/plain": [
       "[('a', <pyspark.resultiterable.ResultIterable at 0x7f9feafd2c88>),\n",
       " ('b', <pyspark.resultiterable.ResultIterable at 0x7f9feafd2518>),\n",
       " ('c', <pyspark.resultiterable.ResultIterable at 0x7f9feafd2ac8>)]"
      ]
     },
     "execution_count": 38,
     "metadata": {},
     "output_type": "execute_result"
    }
   ],
   "source": [
    "rdd_group.collect()"
   ]
  },
  {
   "cell_type": "code",
   "execution_count": 39,
   "metadata": {
    "collapsed": false
   },
   "outputs": [],
   "source": [
    "lista = [(x, list(y)) for x,y in rdd_group.collect()]"
   ]
  },
  {
   "cell_type": "code",
   "execution_count": 40,
   "metadata": {
    "collapsed": false
   },
   "outputs": [
    {
     "data": {
      "text/plain": [
       "[('a', [1, 4]), ('b', [2, 5]), ('c', [3, 6, 7])]"
      ]
     },
     "execution_count": 40,
     "metadata": {},
     "output_type": "execute_result"
    }
   ],
   "source": [
    "lista"
   ]
  },
  {
   "cell_type": "markdown",
   "metadata": {},
   "source": [
    "# combineByKey(createCombiner(), mergeValue(), mergeCombiners()) - parecido a aggregate"
   ]
  },
  {
   "cell_type": "code",
   "execution_count": 41,
   "metadata": {
    "collapsed": false
   },
   "outputs": [],
   "source": [
    "rdd_suma_cuenta = pair_rdd.combineByKey(lambda x : (x,1),\n",
    "                                       lambda x, y: (x[0]+y, x[1]+1),\n",
    "                                       lambda x, y: (x[0], y[0], x[1]+y[1]))"
   ]
  },
  {
   "cell_type": "code",
   "execution_count": 42,
   "metadata": {
    "collapsed": false
   },
   "outputs": [
    {
     "data": {
      "text/plain": [
       "[('a', (5, 2)), ('b', (7, 2)), ('c', (16, 3))]"
      ]
     },
     "execution_count": 42,
     "metadata": {},
     "output_type": "execute_result"
    }
   ],
   "source": [
    "rdd_suma_cuenta.collect()"
   ]
  },
  {
   "cell_type": "code",
   "execution_count": 43,
   "metadata": {
    "collapsed": false
   },
   "outputs": [
    {
     "data": {
      "text/plain": [
       "[('a', 2.5), ('b', 3.5), ('c', 5.333333333333333)]"
      ]
     },
     "execution_count": 43,
     "metadata": {},
     "output_type": "execute_result"
    }
   ],
   "source": [
    "rdd_media = rdd_suma_cuenta.mapValues(lambda v: (v[0]/v[1]))\n",
    "rdd_media.collect()"
   ]
  },
  {
   "cell_type": "markdown",
   "metadata": {},
   "source": [
    "# Transformaciones para claves o valores"
   ]
  },
  {
   "cell_type": "code",
   "execution_count": 44,
   "metadata": {
    "collapsed": false
   },
   "outputs": [
    {
     "data": {
      "text/plain": [
       "[('a', 1), ('b', 2), ('c', 3), ('a', 4), ('b', 5), ('c', 6), ('c', 7)]"
      ]
     },
     "execution_count": 44,
     "metadata": {},
     "output_type": "execute_result"
    }
   ],
   "source": [
    "pair_rdd.collect()"
   ]
  },
  {
   "cell_type": "code",
   "execution_count": 45,
   "metadata": {
    "collapsed": false
   },
   "outputs": [
    {
     "data": {
      "text/plain": [
       "['a', 'b', 'c', 'a', 'b', 'c', 'c']"
      ]
     },
     "execution_count": 45,
     "metadata": {},
     "output_type": "execute_result"
    }
   ],
   "source": [
    "pair_rdd.keys().collect() #Obtiene las claves de un RDD"
   ]
  },
  {
   "cell_type": "code",
   "execution_count": 46,
   "metadata": {
    "collapsed": false
   },
   "outputs": [
    {
     "data": {
      "text/plain": [
       "[1, 2, 3, 4, 5, 6, 7]"
      ]
     },
     "execution_count": 46,
     "metadata": {},
     "output_type": "execute_result"
    }
   ],
   "source": [
    "pair_rdd.values().collect() #obtiene los valores de un rdd"
   ]
  },
  {
   "cell_type": "code",
   "execution_count": 47,
   "metadata": {
    "collapsed": false
   },
   "outputs": [
    {
     "data": {
      "text/plain": [
       "[('a', 1), ('a', 4), ('b', 2), ('b', 5), ('c', 3), ('c', 6), ('c', 7)]"
      ]
     },
     "execution_count": 47,
     "metadata": {},
     "output_type": "execute_result"
    }
   ],
   "source": [
    "pair_rdd.sortByKey().collect()"
   ]
  },
  {
   "cell_type": "markdown",
   "metadata": {},
   "source": [
    "# mapValues()- aplica la función sobre los valores \n",
    "# flatMapValues() - aplica la función sobre los valores y crea una lista simplificada"
   ]
  },
  {
   "cell_type": "code",
   "execution_count": 48,
   "metadata": {
    "collapsed": false
   },
   "outputs": [
    {
     "data": {
      "text/plain": [
       "[('a', (1, 10)),\n",
       " ('b', (2, 20)),\n",
       " ('c', (3, 30)),\n",
       " ('a', (4, 40)),\n",
       " ('b', (5, 50)),\n",
       " ('c', (6, 60)),\n",
       " ('c', (7, 70))]"
      ]
     },
     "execution_count": 48,
     "metadata": {},
     "output_type": "execute_result"
    }
   ],
   "source": [
    "pair_rdd.mapValues(lambda x: (x, x*10)).collect()"
   ]
  },
  {
   "cell_type": "code",
   "execution_count": 49,
   "metadata": {
    "collapsed": false
   },
   "outputs": [
    {
     "data": {
      "text/plain": [
       "[('a', 1),\n",
       " ('a', 10),\n",
       " ('b', 2),\n",
       " ('b', 20),\n",
       " ('c', 3),\n",
       " ('c', 30),\n",
       " ('a', 4),\n",
       " ('a', 40),\n",
       " ('b', 5),\n",
       " ('b', 50),\n",
       " ('c', 6),\n",
       " ('c', 60),\n",
       " ('c', 7),\n",
       " ('c', 70)]"
      ]
     },
     "execution_count": 49,
     "metadata": {},
     "output_type": "execute_result"
    }
   ],
   "source": [
    "pair_rdd.flatMapValues(lambda x: (x, x*10)).collect()"
   ]
  },
  {
   "cell_type": "markdown",
   "metadata": {},
   "source": [
    "# Joins"
   ]
  },
  {
   "cell_type": "code",
   "execution_count": 50,
   "metadata": {
    "collapsed": false
   },
   "outputs": [
    {
     "data": {
      "text/plain": [
       "[('a', 1), ('b', 2)]"
      ]
     },
     "execution_count": 50,
     "metadata": {},
     "output_type": "execute_result"
    }
   ],
   "source": [
    "rdd1 = sc.parallelize([('a',1),('b',2)])\n",
    "rdd1.collect()"
   ]
  },
  {
   "cell_type": "code",
   "execution_count": 51,
   "metadata": {
    "collapsed": false
   },
   "outputs": [
    {
     "data": {
      "text/plain": [
       "[('a', 4), ('b', 5), ('c', 6)]"
      ]
     },
     "execution_count": 51,
     "metadata": {},
     "output_type": "execute_result"
    }
   ],
   "source": [
    "rdd2 = sc.parallelize([('a',4),('b',5), ('c',6)])\n",
    "rdd2.collect()"
   ]
  },
  {
   "cell_type": "code",
   "execution_count": 52,
   "metadata": {
    "collapsed": false
   },
   "outputs": [
    {
     "data": {
      "text/plain": [
       "[('b', (2, 5)), ('a', (1, 4))]"
      ]
     },
     "execution_count": 52,
     "metadata": {},
     "output_type": "execute_result"
    }
   ],
   "source": [
    "rdd1.join(rdd2).collect() # igual a un inner join"
   ]
  },
  {
   "cell_type": "code",
   "execution_count": 53,
   "metadata": {
    "collapsed": false
   },
   "outputs": [
    {
     "data": {
      "text/plain": [
       "[('b', (2, 5)), ('a', (1, 4))]"
      ]
     },
     "execution_count": 53,
     "metadata": {},
     "output_type": "execute_result"
    }
   ],
   "source": [
    "rdd1.leftOuterJoin(rdd2).collect()"
   ]
  },
  {
   "cell_type": "code",
   "execution_count": 54,
   "metadata": {
    "collapsed": false
   },
   "outputs": [
    {
     "data": {
      "text/plain": [
       "[('c', (None, 6)), ('b', (2, 5)), ('a', (1, 4))]"
      ]
     },
     "execution_count": 54,
     "metadata": {},
     "output_type": "execute_result"
    }
   ],
   "source": [
    "rdd1.rightOuterJoin(rdd2).collect()"
   ]
  },
  {
   "cell_type": "code",
   "execution_count": 56,
   "metadata": {
    "collapsed": false
   },
   "outputs": [
    {
     "data": {
      "text/plain": [
       "[('c', (None, 6)), ('b', (2, 5)), ('a', (1, 4))]"
      ]
     },
     "execution_count": 56,
     "metadata": {},
     "output_type": "execute_result"
    }
   ],
   "source": [
    "rdd1.fullOuterJoin(rdd2).collect()"
   ]
  },
  {
   "cell_type": "markdown",
   "metadata": {},
   "source": [
    "# subtractByKey()"
   ]
  },
  {
   "cell_type": "code",
   "execution_count": 60,
   "metadata": {
    "collapsed": false
   },
   "outputs": [
    {
     "data": {
      "text/plain": [
       "[]"
      ]
     },
     "execution_count": 60,
     "metadata": {},
     "output_type": "execute_result"
    }
   ],
   "source": [
    "rdd1.subtractByKey(rdd2).collect()"
   ]
  },
  {
   "cell_type": "code",
   "execution_count": 63,
   "metadata": {
    "collapsed": false
   },
   "outputs": [
    {
     "data": {
      "text/plain": [
       "[('c', 6)]"
      ]
     },
     "execution_count": 63,
     "metadata": {},
     "output_type": "execute_result"
    }
   ],
   "source": [
    "rdd2.subtractByKey(rdd1).collect()"
   ]
  },
  {
   "cell_type": "markdown",
   "metadata": {},
   "source": [
    "# cogroup()"
   ]
  },
  {
   "cell_type": "code",
   "execution_count": 65,
   "metadata": {
    "collapsed": false
   },
   "outputs": [
    {
     "data": {
      "text/plain": [
       "[('c',\n",
       "  (<pyspark.resultiterable.ResultIterable at 0x7f9feafeee10>,\n",
       "   <pyspark.resultiterable.ResultIterable at 0x7f9feb2ff6d8>)),\n",
       " ('b',\n",
       "  (<pyspark.resultiterable.ResultIterable at 0x7f9feb2ff9b0>,\n",
       "   <pyspark.resultiterable.ResultIterable at 0x7f9feb2ff898>)),\n",
       " ('a',\n",
       "  (<pyspark.resultiterable.ResultIterable at 0x7f9feb2ff198>,\n",
       "   <pyspark.resultiterable.ResultIterable at 0x7f9feb2ffa90>))]"
      ]
     },
     "execution_count": 65,
     "metadata": {},
     "output_type": "execute_result"
    }
   ],
   "source": [
    "rdd3 = rdd1.cogroup(rdd2)\n",
    "rdd3.collect()"
   ]
  },
  {
   "cell_type": "code",
   "execution_count": 67,
   "metadata": {
    "collapsed": false
   },
   "outputs": [
    {
     "data": {
      "text/plain": [
       "{'a': [[1], [4]], 'b': [[2], [5]], 'c': [[], [6]]}"
      ]
     },
     "execution_count": 67,
     "metadata": {},
     "output_type": "execute_result"
    }
   ],
   "source": [
    "rdd3.mapValues(lambda v: [list(l) for l in v]).collectAsMap()"
   ]
  },
  {
   "cell_type": "code",
   "execution_count": 69,
   "metadata": {
    "collapsed": false
   },
   "outputs": [
    {
     "data": {
      "text/plain": [
       "[('c', [[], [6]]), ('b', [[2], [5]]), ('a', [[1], [4]])]"
      ]
     },
     "execution_count": 69,
     "metadata": {},
     "output_type": "execute_result"
    }
   ],
   "source": [
    "rdd3.mapValues(lambda v: [list(l) for l in v]).collect()"
   ]
  },
  {
   "cell_type": "markdown",
   "metadata": {},
   "source": [
    "# countByKey()"
   ]
  },
  {
   "cell_type": "code",
   "execution_count": 73,
   "metadata": {
    "collapsed": false
   },
   "outputs": [
    {
     "data": {
      "text/plain": [
       "defaultdict(int, {'a': 1, 'b': 1, 'c': 1})"
      ]
     },
     "execution_count": 73,
     "metadata": {},
     "output_type": "execute_result"
    }
   ],
   "source": [
    "rdd2.countByKey()"
   ]
  },
  {
   "cell_type": "markdown",
   "metadata": {},
   "source": [
    "# lookup()"
   ]
  },
  {
   "cell_type": "code",
   "execution_count": 77,
   "metadata": {
    "collapsed": false
   },
   "outputs": [
    {
     "data": {
      "text/plain": [
       "[2]"
      ]
     },
     "execution_count": 77,
     "metadata": {},
     "output_type": "execute_result"
    }
   ],
   "source": [
    "rdd1.lookup('b')"
   ]
  }
 ],
 "metadata": {
  "anaconda-cloud": {},
  "kernelspec": {
   "display_name": "Python [anaconda3]",
   "language": "python",
   "name": "Python [anaconda3]"
  },
  "language_info": {
   "codemirror_mode": {
    "name": "ipython",
    "version": 3
   },
   "file_extension": ".py",
   "mimetype": "text/x-python",
   "name": "python",
   "nbconvert_exporter": "python",
   "pygments_lexer": "ipython3",
   "version": "3.5.2"
  }
 },
 "nbformat": 4,
 "nbformat_minor": 0
}
